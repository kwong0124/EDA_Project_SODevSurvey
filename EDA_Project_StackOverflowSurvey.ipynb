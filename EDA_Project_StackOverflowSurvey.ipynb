{
 "cells": [
  {
   "cell_type": "markdown",
   "metadata": {},
   "source": [
    "# EDA Project: Data Scientists and the Stack Overflow Developer Survey"
   ]
  },
  {
   "cell_type": "markdown",
   "metadata": {},
   "source": [
    "## Goals\n",
    "### Using the stack overflow data, answer these questions: where are data scientists working and who are they working for? How career satisfied are data scientists?"
   ]
  },
  {
   "cell_type": "markdown",
   "metadata": {},
   "source": [
    "## Assumptions"
   ]
  },
  {
   "cell_type": "markdown",
   "metadata": {},
   "source": [
    "## Approach"
   ]
  },
  {
   "cell_type": "markdown",
   "metadata": {},
   "source": [
    "## Data Cleaning"
   ]
  },
  {
   "cell_type": "markdown",
   "metadata": {},
   "source": [
    "## Identifying Relevant Questions "
   ]
  },
  {
   "cell_type": "markdown",
   "metadata": {},
   "source": [
    "## Final Recommendations"
   ]
  },
  {
   "cell_type": "markdown",
   "metadata": {},
   "source": [
    "## Lessons Learned"
   ]
  },
  {
   "cell_type": "markdown",
   "metadata": {},
   "source": [
    "## Further Analysis"
   ]
  },
  {
   "cell_type": "markdown",
   "metadata": {},
   "source": [
    "## Code information"
   ]
  },
  {
   "cell_type": "code",
   "execution_count": 94,
   "metadata": {
    "collapsed": false
   },
   "outputs": [],
   "source": [
    "import pandas as pd\n",
    "import numpy as np\n",
    "import matplotlib.pyplot as plt\n",
    "import seaborn as sns\n",
    "import scipy.stats as stats\n",
    "import statsmodels.stats.api as sm\n",
    "\n",
    "import re\n",
    "import folium\n",
    "\n",
    "\n",
    "%matplotlib inline\n",
    "pd.options.mode.chained_assignment = None # Turn off warnings"
   ]
  },
  {
   "cell_type": "code",
   "execution_count": 95,
   "metadata": {
    "collapsed": true
   },
   "outputs": [],
   "source": [
    "data = pd.read_csv('../data/survey_results_public.csv')"
   ]
  },
  {
   "cell_type": "code",
   "execution_count": 96,
   "metadata": {
    "collapsed": false
   },
   "outputs": [
    {
     "data": {
      "text/plain": [
       "(51392, 154)"
      ]
     },
     "execution_count": 96,
     "metadata": {},
     "output_type": "execute_result"
    }
   ],
   "source": [
    "data.shape"
   ]
  },
  {
   "cell_type": "code",
   "execution_count": 97,
   "metadata": {
    "collapsed": false
   },
   "outputs": [
    {
     "data": {
      "text/html": [
       "<div>\n",
       "<table border=\"1\" class=\"dataframe\">\n",
       "  <thead>\n",
       "    <tr style=\"text-align: right;\">\n",
       "      <th></th>\n",
       "      <th>Professional</th>\n",
       "      <th>Country</th>\n",
       "      <th>EmploymentStatus</th>\n",
       "      <th>FormalEducation</th>\n",
       "      <th>MajorUndergrad</th>\n",
       "      <th>HomeRemote</th>\n",
       "      <th>CompanySize</th>\n",
       "      <th>CompanyType</th>\n",
       "      <th>NonDeveloperType</th>\n",
       "      <th>CareerSatisfaction</th>\n",
       "      <th>JobSatisfaction</th>\n",
       "    </tr>\n",
       "  </thead>\n",
       "  <tbody>\n",
       "    <tr>\n",
       "      <th>0</th>\n",
       "      <td>Student</td>\n",
       "      <td>United States</td>\n",
       "      <td>Not employed, and not looking for work</td>\n",
       "      <td>Secondary school</td>\n",
       "      <td>NaN</td>\n",
       "      <td>NaN</td>\n",
       "      <td>NaN</td>\n",
       "      <td>NaN</td>\n",
       "      <td>NaN</td>\n",
       "      <td>NaN</td>\n",
       "      <td>NaN</td>\n",
       "    </tr>\n",
       "    <tr>\n",
       "      <th>1</th>\n",
       "      <td>Student</td>\n",
       "      <td>United Kingdom</td>\n",
       "      <td>Employed part-time</td>\n",
       "      <td>Some college/university study without earning ...</td>\n",
       "      <td>Computer science or software engineering</td>\n",
       "      <td>More than half, but not all, the time</td>\n",
       "      <td>20 to 99 employees</td>\n",
       "      <td>Privately-held limited company, not in startup...</td>\n",
       "      <td>NaN</td>\n",
       "      <td>NaN</td>\n",
       "      <td>NaN</td>\n",
       "    </tr>\n",
       "    <tr>\n",
       "      <th>2</th>\n",
       "      <td>Professional developer</td>\n",
       "      <td>United Kingdom</td>\n",
       "      <td>Employed full-time</td>\n",
       "      <td>Bachelor's degree</td>\n",
       "      <td>Computer science or software engineering</td>\n",
       "      <td>Less than half the time, but at least one day ...</td>\n",
       "      <td>10,000 or more employees</td>\n",
       "      <td>Publicly-traded corporation</td>\n",
       "      <td>NaN</td>\n",
       "      <td>8.0</td>\n",
       "      <td>9.0</td>\n",
       "    </tr>\n",
       "    <tr>\n",
       "      <th>3</th>\n",
       "      <td>Professional non-developer who sometimes write...</td>\n",
       "      <td>United States</td>\n",
       "      <td>Employed full-time</td>\n",
       "      <td>Doctoral degree</td>\n",
       "      <td>A non-computer-focused engineering discipline</td>\n",
       "      <td>Less than half the time, but at least one day ...</td>\n",
       "      <td>10,000 or more employees</td>\n",
       "      <td>Non-profit/non-governmental organization or pr...</td>\n",
       "      <td>Data scientist</td>\n",
       "      <td>6.0</td>\n",
       "      <td>3.0</td>\n",
       "    </tr>\n",
       "    <tr>\n",
       "      <th>4</th>\n",
       "      <td>Professional developer</td>\n",
       "      <td>Switzerland</td>\n",
       "      <td>Employed full-time</td>\n",
       "      <td>Master's degree</td>\n",
       "      <td>Computer science or software engineering</td>\n",
       "      <td>Never</td>\n",
       "      <td>10 to 19 employees</td>\n",
       "      <td>Privately-held limited company, not in startup...</td>\n",
       "      <td>NaN</td>\n",
       "      <td>6.0</td>\n",
       "      <td>8.0</td>\n",
       "    </tr>\n",
       "  </tbody>\n",
       "</table>\n",
       "</div>"
      ],
      "text/plain": [
       "                                        Professional         Country  \\\n",
       "0                                            Student   United States   \n",
       "1                                            Student  United Kingdom   \n",
       "2                             Professional developer  United Kingdom   \n",
       "3  Professional non-developer who sometimes write...   United States   \n",
       "4                             Professional developer     Switzerland   \n",
       "\n",
       "                         EmploymentStatus  \\\n",
       "0  Not employed, and not looking for work   \n",
       "1                      Employed part-time   \n",
       "2                      Employed full-time   \n",
       "3                      Employed full-time   \n",
       "4                      Employed full-time   \n",
       "\n",
       "                                     FormalEducation  \\\n",
       "0                                   Secondary school   \n",
       "1  Some college/university study without earning ...   \n",
       "2                                  Bachelor's degree   \n",
       "3                                    Doctoral degree   \n",
       "4                                    Master's degree   \n",
       "\n",
       "                                  MajorUndergrad  \\\n",
       "0                                            NaN   \n",
       "1       Computer science or software engineering   \n",
       "2       Computer science or software engineering   \n",
       "3  A non-computer-focused engineering discipline   \n",
       "4       Computer science or software engineering   \n",
       "\n",
       "                                          HomeRemote  \\\n",
       "0                                                NaN   \n",
       "1              More than half, but not all, the time   \n",
       "2  Less than half the time, but at least one day ...   \n",
       "3  Less than half the time, but at least one day ...   \n",
       "4                                              Never   \n",
       "\n",
       "                CompanySize  \\\n",
       "0                       NaN   \n",
       "1        20 to 99 employees   \n",
       "2  10,000 or more employees   \n",
       "3  10,000 or more employees   \n",
       "4        10 to 19 employees   \n",
       "\n",
       "                                         CompanyType NonDeveloperType  \\\n",
       "0                                                NaN              NaN   \n",
       "1  Privately-held limited company, not in startup...              NaN   \n",
       "2                        Publicly-traded corporation              NaN   \n",
       "3  Non-profit/non-governmental organization or pr...   Data scientist   \n",
       "4  Privately-held limited company, not in startup...              NaN   \n",
       "\n",
       "   CareerSatisfaction  JobSatisfaction  \n",
       "0                 NaN              NaN  \n",
       "1                 NaN              NaN  \n",
       "2                 8.0              9.0  \n",
       "3                 6.0              3.0  \n",
       "4                 6.0              8.0  "
      ]
     },
     "execution_count": 97,
     "metadata": {},
     "output_type": "execute_result"
    }
   ],
   "source": [
    "narrow_data = data[['Professional', 'Country', 'EmploymentStatus', 'FormalEducation', 'MajorUndergrad', 'HomeRemote',\n",
    "               'CompanySize', 'CompanyType', 'NonDeveloperType', 'CareerSatisfaction', 'JobSatisfaction']]\n",
    "narrow_data.head()"
   ]
  },
  {
   "cell_type": "code",
   "execution_count": 98,
   "metadata": {
    "collapsed": false
   },
   "outputs": [],
   "source": [
    "def find_ds(a_string):\n",
    "    try:\n",
    "        if re.search(r'Data scientist', a_string):\n",
    "            return 1\n",
    "        else:\n",
    "            return 0\n",
    "    except:\n",
    "        return 0"
   ]
  },
  {
   "cell_type": "code",
   "execution_count": 99,
   "metadata": {
    "collapsed": false
   },
   "outputs": [
    {
     "data": {
      "text/html": [
       "<div>\n",
       "<table border=\"1\" class=\"dataframe\">\n",
       "  <thead>\n",
       "    <tr style=\"text-align: right;\">\n",
       "      <th></th>\n",
       "      <th>Professional</th>\n",
       "      <th>Country</th>\n",
       "      <th>EmploymentStatus</th>\n",
       "      <th>FormalEducation</th>\n",
       "      <th>MajorUndergrad</th>\n",
       "      <th>HomeRemote</th>\n",
       "      <th>CompanySize</th>\n",
       "      <th>CompanyType</th>\n",
       "      <th>NonDeveloperType</th>\n",
       "      <th>CareerSatisfaction</th>\n",
       "      <th>JobSatisfaction</th>\n",
       "      <th>DataScientist</th>\n",
       "    </tr>\n",
       "  </thead>\n",
       "  <tbody>\n",
       "    <tr>\n",
       "      <th>0</th>\n",
       "      <td>Student</td>\n",
       "      <td>United States</td>\n",
       "      <td>Not employed, and not looking for work</td>\n",
       "      <td>Secondary school</td>\n",
       "      <td>NaN</td>\n",
       "      <td>NaN</td>\n",
       "      <td>NaN</td>\n",
       "      <td>NaN</td>\n",
       "      <td>NaN</td>\n",
       "      <td>NaN</td>\n",
       "      <td>NaN</td>\n",
       "      <td>0</td>\n",
       "    </tr>\n",
       "    <tr>\n",
       "      <th>1</th>\n",
       "      <td>Student</td>\n",
       "      <td>United Kingdom</td>\n",
       "      <td>Employed part-time</td>\n",
       "      <td>Some college/university study without earning ...</td>\n",
       "      <td>Computer science or software engineering</td>\n",
       "      <td>More than half, but not all, the time</td>\n",
       "      <td>20 to 99 employees</td>\n",
       "      <td>Privately-held limited company, not in startup...</td>\n",
       "      <td>NaN</td>\n",
       "      <td>NaN</td>\n",
       "      <td>NaN</td>\n",
       "      <td>0</td>\n",
       "    </tr>\n",
       "    <tr>\n",
       "      <th>2</th>\n",
       "      <td>Professional developer</td>\n",
       "      <td>United Kingdom</td>\n",
       "      <td>Employed full-time</td>\n",
       "      <td>Bachelor's degree</td>\n",
       "      <td>Computer science or software engineering</td>\n",
       "      <td>Less than half the time, but at least one day ...</td>\n",
       "      <td>10,000 or more employees</td>\n",
       "      <td>Publicly-traded corporation</td>\n",
       "      <td>NaN</td>\n",
       "      <td>8.0</td>\n",
       "      <td>9.0</td>\n",
       "      <td>0</td>\n",
       "    </tr>\n",
       "    <tr>\n",
       "      <th>3</th>\n",
       "      <td>Professional non-developer who sometimes write...</td>\n",
       "      <td>United States</td>\n",
       "      <td>Employed full-time</td>\n",
       "      <td>Doctoral degree</td>\n",
       "      <td>A non-computer-focused engineering discipline</td>\n",
       "      <td>Less than half the time, but at least one day ...</td>\n",
       "      <td>10,000 or more employees</td>\n",
       "      <td>Non-profit/non-governmental organization or pr...</td>\n",
       "      <td>Data scientist</td>\n",
       "      <td>6.0</td>\n",
       "      <td>3.0</td>\n",
       "      <td>1</td>\n",
       "    </tr>\n",
       "    <tr>\n",
       "      <th>4</th>\n",
       "      <td>Professional developer</td>\n",
       "      <td>Switzerland</td>\n",
       "      <td>Employed full-time</td>\n",
       "      <td>Master's degree</td>\n",
       "      <td>Computer science or software engineering</td>\n",
       "      <td>Never</td>\n",
       "      <td>10 to 19 employees</td>\n",
       "      <td>Privately-held limited company, not in startup...</td>\n",
       "      <td>NaN</td>\n",
       "      <td>6.0</td>\n",
       "      <td>8.0</td>\n",
       "      <td>0</td>\n",
       "    </tr>\n",
       "  </tbody>\n",
       "</table>\n",
       "</div>"
      ],
      "text/plain": [
       "                                        Professional         Country  \\\n",
       "0                                            Student   United States   \n",
       "1                                            Student  United Kingdom   \n",
       "2                             Professional developer  United Kingdom   \n",
       "3  Professional non-developer who sometimes write...   United States   \n",
       "4                             Professional developer     Switzerland   \n",
       "\n",
       "                         EmploymentStatus  \\\n",
       "0  Not employed, and not looking for work   \n",
       "1                      Employed part-time   \n",
       "2                      Employed full-time   \n",
       "3                      Employed full-time   \n",
       "4                      Employed full-time   \n",
       "\n",
       "                                     FormalEducation  \\\n",
       "0                                   Secondary school   \n",
       "1  Some college/university study without earning ...   \n",
       "2                                  Bachelor's degree   \n",
       "3                                    Doctoral degree   \n",
       "4                                    Master's degree   \n",
       "\n",
       "                                  MajorUndergrad  \\\n",
       "0                                            NaN   \n",
       "1       Computer science or software engineering   \n",
       "2       Computer science or software engineering   \n",
       "3  A non-computer-focused engineering discipline   \n",
       "4       Computer science or software engineering   \n",
       "\n",
       "                                          HomeRemote  \\\n",
       "0                                                NaN   \n",
       "1              More than half, but not all, the time   \n",
       "2  Less than half the time, but at least one day ...   \n",
       "3  Less than half the time, but at least one day ...   \n",
       "4                                              Never   \n",
       "\n",
       "                CompanySize  \\\n",
       "0                       NaN   \n",
       "1        20 to 99 employees   \n",
       "2  10,000 or more employees   \n",
       "3  10,000 or more employees   \n",
       "4        10 to 19 employees   \n",
       "\n",
       "                                         CompanyType NonDeveloperType  \\\n",
       "0                                                NaN              NaN   \n",
       "1  Privately-held limited company, not in startup...              NaN   \n",
       "2                        Publicly-traded corporation              NaN   \n",
       "3  Non-profit/non-governmental organization or pr...   Data scientist   \n",
       "4  Privately-held limited company, not in startup...              NaN   \n",
       "\n",
       "   CareerSatisfaction  JobSatisfaction  DataScientist  \n",
       "0                 NaN              NaN              0  \n",
       "1                 NaN              NaN              0  \n",
       "2                 8.0              9.0              0  \n",
       "3                 6.0              3.0              1  \n",
       "4                 6.0              8.0              0  "
      ]
     },
     "execution_count": 99,
     "metadata": {},
     "output_type": "execute_result"
    }
   ],
   "source": [
    "narrow_data['DataScientist'] = narrow_data['NonDeveloperType'].apply(find_ds)\n",
    "narrow_data.head()"
   ]
  },
  {
   "cell_type": "code",
   "execution_count": 100,
   "metadata": {
    "collapsed": true
   },
   "outputs": [],
   "source": [
    "ds_data = narrow_data[narrow_data.DataScientist == 1]\n",
    "non_ds_data = narrow_data[narrow_data.DataScientist == 0]"
   ]
  },
  {
   "cell_type": "code",
   "execution_count": 101,
   "metadata": {
    "collapsed": false
   },
   "outputs": [
    {
     "data": {
      "image/png": "[encoded data removed]",
      "text/plain": [
       "<matplotlib.figure.Figure at 0x11351a4e0>"
      ]
     },
     "metadata": {},
     "output_type": "display_data"
    }
   ],
   "source": [
    "f, (ax1, ax2) = plt.subplots(2, sharex=False, figsize=(8,12))\n",
    "sns.distplot(ds_data['CareerSatisfaction'].dropna(axis=0), ax=ax1, kde=False, bins=10, \n",
    "             axlabel='Career Satisfaction Level')\n",
    "ax1.set_ylabel('Number of Respondents')\n",
    "ax1.set_title('Data scientists', fontsize=13)\n",
    "\n",
    "sns.distplot(non_ds_data['CareerSatisfaction'].dropna(axis=0), ax=ax2, kde=False, bins=10, \n",
    "             axlabel='Career Satisfaction Level')\n",
    "ax2.set_ylabel('Number of Respondents')\n",
    "ax2.set_title('Non-data scientists', fontsize=13)\n",
    "ax2.set_xlabel('Career Satisfaction Level')\n",
    "\n",
    "plt.show()"
   ]
  },
  {
   "cell_type": "markdown",
   "metadata": {},
   "source": [
    "#### The satisfaction levels of data scientists and non data scientists seem to be about the same -- data scientists are no more or less satisfied with their career than other developers."
   ]
  },
  {
   "cell_type": "code",
   "execution_count": 102,
   "metadata": {
    "collapsed": false
   },
   "outputs": [],
   "source": [
    "ds_countries = ds_data.groupby('Country')['Professional'].count().reset_index()\n",
    "ds_countries.columns = ['Country', 'Number']\n",
    "ds_countries = ds_countries.sort_values(['Number'], axis=0, ascending=False)"
   ]
  },
  {
   "cell_type": "code",
   "execution_count": 103,
   "metadata": {
    "collapsed": false
   },
   "outputs": [],
   "source": [
    "nonds_countries = non_ds_data.groupby('Country')['Professional'].count().reset_index()\n",
    "nonds_countries.columns = ['Country', 'Number']\n",
    "nonds_countries = nonds_countries.sort_values(['Number'], axis=0, ascending=False)"
   ]
  },
  {
   "cell_type": "code",
   "execution_count": 104,
   "metadata": {
    "collapsed": false
   },
   "outputs": [],
   "source": [
    "ds_countries = ds_countries[ds_countries.Number >= 10]\n",
    "nonds_countries = nonds_countries[nonds_countries.Number >= 400]"
   ]
  },
  {
   "cell_type": "code",
   "execution_count": 105,
   "metadata": {
    "collapsed": false
   },
   "outputs": [
    {
     "data": {
      "text/html": [
       "<div>\n",
       "<table border=\"1\" class=\"dataframe\">\n",
       "  <thead>\n",
       "    <tr style=\"text-align: right;\">\n",
       "      <th></th>\n",
       "      <th>Country</th>\n",
       "      <th>Number</th>\n",
       "    </tr>\n",
       "  </thead>\n",
       "  <tbody>\n",
       "    <tr>\n",
       "      <th>94</th>\n",
       "      <td>United States</td>\n",
       "      <td>271</td>\n",
       "    </tr>\n",
       "    <tr>\n",
       "      <th>31</th>\n",
       "      <td>Germany</td>\n",
       "      <td>121</td>\n",
       "    </tr>\n",
       "    <tr>\n",
       "      <th>93</th>\n",
       "      <td>United Kingdom</td>\n",
       "      <td>92</td>\n",
       "    </tr>\n",
       "    <tr>\n",
       "      <th>39</th>\n",
       "      <td>India</td>\n",
       "      <td>52</td>\n",
       "    </tr>\n",
       "    <tr>\n",
       "      <th>18</th>\n",
       "      <td>Canada</td>\n",
       "      <td>38</td>\n",
       "    </tr>\n",
       "    <tr>\n",
       "      <th>71</th>\n",
       "      <td>Poland</td>\n",
       "      <td>27</td>\n",
       "    </tr>\n",
       "    <tr>\n",
       "      <th>29</th>\n",
       "      <td>France</td>\n",
       "      <td>27</td>\n",
       "    </tr>\n",
       "    <tr>\n",
       "      <th>45</th>\n",
       "      <td>Italy</td>\n",
       "      <td>23</td>\n",
       "    </tr>\n",
       "    <tr>\n",
       "      <th>84</th>\n",
       "      <td>Switzerland</td>\n",
       "      <td>23</td>\n",
       "    </tr>\n",
       "    <tr>\n",
       "      <th>6</th>\n",
       "      <td>Australia</td>\n",
       "      <td>21</td>\n",
       "    </tr>\n",
       "  </tbody>\n",
       "</table>\n",
       "</div>"
      ],
      "text/plain": [
       "           Country  Number\n",
       "94   United States     271\n",
       "31         Germany     121\n",
       "93  United Kingdom      92\n",
       "39           India      52\n",
       "18          Canada      38\n",
       "71          Poland      27\n",
       "29          France      27\n",
       "45           Italy      23\n",
       "84     Switzerland      23\n",
       "6        Australia      21"
      ]
     },
     "execution_count": 105,
     "metadata": {},
     "output_type": "execute_result"
    }
   ],
   "source": [
    "ds_countries.head(10)"
   ]
  },
  {
   "cell_type": "code",
   "execution_count": 106,
   "metadata": {
    "collapsed": false
   },
   "outputs": [
    {
     "data": {
      "text/html": [
       "<div>\n",
       "<table border=\"1\" class=\"dataframe\">\n",
       "  <thead>\n",
       "    <tr style=\"text-align: right;\">\n",
       "      <th></th>\n",
       "      <th>Country</th>\n",
       "      <th>Number</th>\n",
       "    </tr>\n",
       "  </thead>\n",
       "  <tbody>\n",
       "    <tr>\n",
       "      <th>187</th>\n",
       "      <td>United States</td>\n",
       "      <td>11184</td>\n",
       "    </tr>\n",
       "    <tr>\n",
       "      <th>84</th>\n",
       "      <td>India</td>\n",
       "      <td>5145</td>\n",
       "    </tr>\n",
       "    <tr>\n",
       "      <th>186</th>\n",
       "      <td>United Kingdom</td>\n",
       "      <td>4303</td>\n",
       "    </tr>\n",
       "    <tr>\n",
       "      <th>69</th>\n",
       "      <td>Germany</td>\n",
       "      <td>4022</td>\n",
       "    </tr>\n",
       "    <tr>\n",
       "      <th>38</th>\n",
       "      <td>Canada</td>\n",
       "      <td>2195</td>\n",
       "    </tr>\n",
       "    <tr>\n",
       "      <th>65</th>\n",
       "      <td>France</td>\n",
       "      <td>1713</td>\n",
       "    </tr>\n",
       "    <tr>\n",
       "      <th>142</th>\n",
       "      <td>Poland</td>\n",
       "      <td>1263</td>\n",
       "    </tr>\n",
       "    <tr>\n",
       "      <th>13</th>\n",
       "      <td>Australia</td>\n",
       "      <td>892</td>\n",
       "    </tr>\n",
       "    <tr>\n",
       "      <th>149</th>\n",
       "      <td>Russian Federation</td>\n",
       "      <td>858</td>\n",
       "    </tr>\n",
       "    <tr>\n",
       "      <th>165</th>\n",
       "      <td>Spain</td>\n",
       "      <td>847</td>\n",
       "    </tr>\n",
       "  </tbody>\n",
       "</table>\n",
       "</div>"
      ],
      "text/plain": [
       "                Country  Number\n",
       "187       United States   11184\n",
       "84                India    5145\n",
       "186      United Kingdom    4303\n",
       "69              Germany    4022\n",
       "38               Canada    2195\n",
       "65               France    1713\n",
       "142              Poland    1263\n",
       "13            Australia     892\n",
       "149  Russian Federation     858\n",
       "165               Spain     847"
      ]
     },
     "execution_count": 106,
     "metadata": {},
     "output_type": "execute_result"
    }
   ],
   "source": [
    "nonds_countries.head(10)"
   ]
  },
  {
   "cell_type": "code",
   "execution_count": 107,
   "metadata": {
    "collapsed": false
   },
   "outputs": [],
   "source": [
    "x1 = list(ds_countries['Country'][:10])\n",
    "x2 = list(nonds_countries['Country'][:10])"
   ]
  },
  {
   "cell_type": "code",
   "execution_count": 108,
   "metadata": {
    "collapsed": false
   },
   "outputs": [
    {
     "data": {
      "image/png": "[encoded data removed]",
      "text/plain": [
       "<matplotlib.figure.Figure at 0x11cfa27f0>"
      ]
     },
     "metadata": {},
     "output_type": "display_data"
    }
   ],
   "source": [
    "f, (ax1, ax2) = plt.subplots(2, figsize=(10, 12))\n",
    "\n",
    "ax1 = sns.barplot(x=ds_countries['Country'][:10], y=ds_countries['Number'][:10], ax=ax1)\n",
    "ax1.set_title('Top 10 countries for data scientists', fontsize=13)\n",
    "ax1.set_ylabel('No. of Respondents')\n",
    "ax1.set_xlabel('')\n",
    "ax1.set_xticklabels(x1, rotation=90)\n",
    "\n",
    "ax2 = sns.barplot(x=nonds_countries['Country'][:10], y=nonds_countries['Number'][:10], ax=ax2)\n",
    "ax2.set_title('Top 10 countries for non-data scientists', fontsize=13)\n",
    "ax2.set_ylabel('No. of respondents')\n",
    "ax2.set_xticklabels(x2, rotation=90)\n",
    "ax2.set_xlabel('')\n",
    "\n",
    "plt.show()"
   ]
  },
  {
   "cell_type": "markdown",
   "metadata": {},
   "source": [
    "#### Data scientists seem to follow a similar geographic desitribution as non-data scientists - most of the top ten countries for data scientists are also in the top ten list of countries for non-data scientists. "
   ]
  },
  {
   "cell_type": "code",
   "execution_count": 110,
   "metadata": {
    "collapsed": false
   },
   "outputs": [],
   "source": [
    "country_satisfcation = ds_data.groupby('Country')['CareerSatisfaction'].mean()\n",
    "# How to filter out countries with < 10 data scientists?"
   ]
  },
  {
   "cell_type": "code",
   "execution_count": 111,
   "metadata": {
    "collapsed": false
   },
   "outputs": [
    {
     "data": {
      "text/plain": [
       "Country\n",
       "Afghanistan      10.000000\n",
       "Aland Islands     2.500000\n",
       "Algeria           7.000000\n",
       "Angola            6.000000\n",
       "Antarctica        0.000000\n",
       "Argentina         8.250000\n",
       "Australia         6.850000\n",
       "Austria           7.769231\n",
       "Azerbaidjan       5.500000\n",
       "Bangladesh        9.000000\n",
       "Name: CareerSatisfaction, dtype: float64"
      ]
     },
     "execution_count": 111,
     "metadata": {},
     "output_type": "execute_result"
    }
   ],
   "source": [
    "country_satisfcation.head(10)"
   ]
  },
  {
   "cell_type": "markdown",
   "metadata": {},
   "source": [
    "#### A chloropleth (geographic heatmap) of data scientist career satisfaction levels by country seen [here](http://www.openheatmap.com/embed.html?map=TrimestralGolemsLepidophloios) "
   ]
  },
  {
   "cell_type": "code",
   "execution_count": 112,
   "metadata": {
    "collapsed": false
   },
   "outputs": [
    {
     "data": {
      "text/plain": [
       "array(['Less than half the time, but at least one day each week',\n",
       "       'About half the time', \"It's complicated\", 'A few days each month',\n",
       "       'Never', \"All or almost all the time (I'm full-time remote)\", nan,\n",
       "       'More than half, but not all, the time'], dtype=object)"
      ]
     },
     "execution_count": 112,
     "metadata": {},
     "output_type": "execute_result"
    }
   ],
   "source": [
    "ds_data['HomeRemote'].unique()"
   ]
  },
  {
   "cell_type": "markdown",
   "metadata": {},
   "source": [
    "#### Make a heat map comparing career satisfaction and work from home "
   ]
  },
  {
   "cell_type": "code",
   "execution_count": 220,
   "metadata": {
    "collapsed": false
   },
   "outputs": [],
   "source": [
    "work_from_home = {\n",
    "                 'Never': 0, \"All or almost all the time (I'm full-time remote)\": 5, \"About half the time\": 3,\n",
    "                 \"It's complicated\": '.', \"Less than half the time, but at least one day each week\": 2, \n",
    "                 \"More than half, but not all, the time\": 4, \"A few days each month\": 1, \n",
    "                  }\n",
    "# drop the \"it's complicated\" responses since we have no way of knowing what the respondent means by that"
   ]
  },
  {
   "cell_type": "code",
   "execution_count": 221,
   "metadata": {
    "collapsed": false
   },
   "outputs": [],
   "source": [
    "def home_remote(key):\n",
    "    '''takes a string and searcheds for it in the work_from_home dict. If it finds a match, it returns the value,\n",
    "    else it returns none'''\n",
    "    try:\n",
    "        \n",
    "        home_remote_code = work_from_home[key]\n",
    "        return home_remote_code\n",
    "    \n",
    "    except:\n",
    "        return '.'"
   ]
  },
  {
   "cell_type": "code",
   "execution_count": 224,
   "metadata": {
    "collapsed": false
   },
   "outputs": [
    {
     "data": {
      "text/html": [
       "<div>\n",
       "<table border=\"1\" class=\"dataframe\">\n",
       "  <thead>\n",
       "    <tr style=\"text-align: right;\">\n",
       "      <th></th>\n",
       "      <th>Professional</th>\n",
       "      <th>Country</th>\n",
       "      <th>EmploymentStatus</th>\n",
       "      <th>FormalEducation</th>\n",
       "      <th>MajorUndergrad</th>\n",
       "      <th>HomeRemote</th>\n",
       "      <th>CompanySize</th>\n",
       "      <th>CompanyType</th>\n",
       "      <th>NonDeveloperType</th>\n",
       "      <th>CareerSatisfaction</th>\n",
       "      <th>JobSatisfaction</th>\n",
       "      <th>DataScientist</th>\n",
       "      <th>HomeRemoteCode</th>\n",
       "    </tr>\n",
       "  </thead>\n",
       "  <tbody>\n",
       "    <tr>\n",
       "      <th>1</th>\n",
       "      <td>Student</td>\n",
       "      <td>United Kingdom</td>\n",
       "      <td>Employed part-time</td>\n",
       "      <td>Some college/university study without earning ...</td>\n",
       "      <td>Computer science or software engineering</td>\n",
       "      <td>More than half, but not all, the time</td>\n",
       "      <td>20 to 99 employees</td>\n",
       "      <td>Privately-held limited company, not in startup...</td>\n",
       "      <td>NaN</td>\n",
       "      <td>NaN</td>\n",
       "      <td>NaN</td>\n",
       "      <td>0</td>\n",
       "      <td>4</td>\n",
       "    </tr>\n",
       "    <tr>\n",
       "      <th>2</th>\n",
       "      <td>Professional developer</td>\n",
       "      <td>United Kingdom</td>\n",
       "      <td>Employed full-time</td>\n",
       "      <td>Bachelor's degree</td>\n",
       "      <td>Computer science or software engineering</td>\n",
       "      <td>Less than half the time, but at least one day ...</td>\n",
       "      <td>10,000 or more employees</td>\n",
       "      <td>Publicly-traded corporation</td>\n",
       "      <td>NaN</td>\n",
       "      <td>8.0</td>\n",
       "      <td>9.0</td>\n",
       "      <td>0</td>\n",
       "      <td>2</td>\n",
       "    </tr>\n",
       "    <tr>\n",
       "      <th>3</th>\n",
       "      <td>Professional non-developer who sometimes write...</td>\n",
       "      <td>United States</td>\n",
       "      <td>Employed full-time</td>\n",
       "      <td>Doctoral degree</td>\n",
       "      <td>A non-computer-focused engineering discipline</td>\n",
       "      <td>Less than half the time, but at least one day ...</td>\n",
       "      <td>10,000 or more employees</td>\n",
       "      <td>Non-profit/non-governmental organization or pr...</td>\n",
       "      <td>Data scientist</td>\n",
       "      <td>6.0</td>\n",
       "      <td>3.0</td>\n",
       "      <td>1</td>\n",
       "      <td>2</td>\n",
       "    </tr>\n",
       "    <tr>\n",
       "      <th>4</th>\n",
       "      <td>Professional developer</td>\n",
       "      <td>Switzerland</td>\n",
       "      <td>Employed full-time</td>\n",
       "      <td>Master's degree</td>\n",
       "      <td>Computer science or software engineering</td>\n",
       "      <td>Never</td>\n",
       "      <td>10 to 19 employees</td>\n",
       "      <td>Privately-held limited company, not in startup...</td>\n",
       "      <td>NaN</td>\n",
       "      <td>6.0</td>\n",
       "      <td>8.0</td>\n",
       "      <td>0</td>\n",
       "      <td>0</td>\n",
       "    </tr>\n",
       "    <tr>\n",
       "      <th>6</th>\n",
       "      <td>Professional non-developer who sometimes write...</td>\n",
       "      <td>United States</td>\n",
       "      <td>Employed full-time</td>\n",
       "      <td>Master's degree</td>\n",
       "      <td>A non-computer-focused engineering discipline</td>\n",
       "      <td>Less than half the time, but at least one day ...</td>\n",
       "      <td>20 to 99 employees</td>\n",
       "      <td>Government agency or public school/university</td>\n",
       "      <td>Data scientist</td>\n",
       "      <td>7.0</td>\n",
       "      <td>6.0</td>\n",
       "      <td>1</td>\n",
       "      <td>2</td>\n",
       "    </tr>\n",
       "  </tbody>\n",
       "</table>\n",
       "</div>"
      ],
      "text/plain": [
       "                                        Professional         Country  \\\n",
       "1                                            Student  United Kingdom   \n",
       "2                             Professional developer  United Kingdom   \n",
       "3  Professional non-developer who sometimes write...   United States   \n",
       "4                             Professional developer     Switzerland   \n",
       "6  Professional non-developer who sometimes write...   United States   \n",
       "\n",
       "     EmploymentStatus                                    FormalEducation  \\\n",
       "1  Employed part-time  Some college/university study without earning ...   \n",
       "2  Employed full-time                                  Bachelor's degree   \n",
       "3  Employed full-time                                    Doctoral degree   \n",
       "4  Employed full-time                                    Master's degree   \n",
       "6  Employed full-time                                    Master's degree   \n",
       "\n",
       "                                  MajorUndergrad  \\\n",
       "1       Computer science or software engineering   \n",
       "2       Computer science or software engineering   \n",
       "3  A non-computer-focused engineering discipline   \n",
       "4       Computer science or software engineering   \n",
       "6  A non-computer-focused engineering discipline   \n",
       "\n",
       "                                          HomeRemote  \\\n",
       "1              More than half, but not all, the time   \n",
       "2  Less than half the time, but at least one day ...   \n",
       "3  Less than half the time, but at least one day ...   \n",
       "4                                              Never   \n",
       "6  Less than half the time, but at least one day ...   \n",
       "\n",
       "                CompanySize  \\\n",
       "1        20 to 99 employees   \n",
       "2  10,000 or more employees   \n",
       "3  10,000 or more employees   \n",
       "4        10 to 19 employees   \n",
       "6        20 to 99 employees   \n",
       "\n",
       "                                         CompanyType NonDeveloperType  \\\n",
       "1  Privately-held limited company, not in startup...              NaN   \n",
       "2                        Publicly-traded corporation              NaN   \n",
       "3  Non-profit/non-governmental organization or pr...   Data scientist   \n",
       "4  Privately-held limited company, not in startup...              NaN   \n",
       "6      Government agency or public school/university   Data scientist   \n",
       "\n",
       "   CareerSatisfaction  JobSatisfaction  DataScientist HomeRemoteCode  \n",
       "1                 NaN              NaN              0              4  \n",
       "2                 8.0              9.0              0              2  \n",
       "3                 6.0              3.0              1              2  \n",
       "4                 6.0              8.0              0              0  \n",
       "6                 7.0              6.0              1              2  "
      ]
     },
     "execution_count": 224,
     "metadata": {},
     "output_type": "execute_result"
    }
   ],
   "source": [
    "narrow_data['HomeRemoteCode'] = narrow_data['HomeRemote'].apply(lambda x: home_remote(x))\n",
    "home_remote_data = narrow_data[narrow_data.HomeRemoteCode != '.']\n",
    "home_remote_data.head()"
   ]
  },
  {
   "cell_type": "code",
   "execution_count": 225,
   "metadata": {
    "collapsed": false
   },
   "outputs": [
    {
     "data": {
      "text/html": [
       "<div>\n",
       "<table border=\"1\" class=\"dataframe\">\n",
       "  <thead>\n",
       "    <tr style=\"text-align: right;\">\n",
       "      <th></th>\n",
       "      <th>Professional</th>\n",
       "      <th>Country</th>\n",
       "      <th>EmploymentStatus</th>\n",
       "      <th>FormalEducation</th>\n",
       "      <th>MajorUndergrad</th>\n",
       "      <th>HomeRemote</th>\n",
       "      <th>CompanySize</th>\n",
       "      <th>CompanyType</th>\n",
       "      <th>NonDeveloperType</th>\n",
       "      <th>CareerSatisfaction</th>\n",
       "      <th>JobSatisfaction</th>\n",
       "      <th>DataScientist</th>\n",
       "      <th>HomeRemoteCode</th>\n",
       "    </tr>\n",
       "  </thead>\n",
       "  <tbody>\n",
       "    <tr>\n",
       "      <th>3</th>\n",
       "      <td>Professional non-developer who sometimes write...</td>\n",
       "      <td>United States</td>\n",
       "      <td>Employed full-time</td>\n",
       "      <td>Doctoral degree</td>\n",
       "      <td>A non-computer-focused engineering discipline</td>\n",
       "      <td>Less than half the time, but at least one day ...</td>\n",
       "      <td>10,000 or more employees</td>\n",
       "      <td>Non-profit/non-governmental organization or pr...</td>\n",
       "      <td>Data scientist</td>\n",
       "      <td>6.0</td>\n",
       "      <td>3.0</td>\n",
       "      <td>1</td>\n",
       "      <td>2</td>\n",
       "    </tr>\n",
       "    <tr>\n",
       "      <th>6</th>\n",
       "      <td>Professional non-developer who sometimes write...</td>\n",
       "      <td>United States</td>\n",
       "      <td>Employed full-time</td>\n",
       "      <td>Master's degree</td>\n",
       "      <td>A non-computer-focused engineering discipline</td>\n",
       "      <td>Less than half the time, but at least one day ...</td>\n",
       "      <td>20 to 99 employees</td>\n",
       "      <td>Government agency or public school/university</td>\n",
       "      <td>Data scientist</td>\n",
       "      <td>7.0</td>\n",
       "      <td>6.0</td>\n",
       "      <td>1</td>\n",
       "      <td>2</td>\n",
       "    </tr>\n",
       "    <tr>\n",
       "      <th>528</th>\n",
       "      <td>Professional non-developer who sometimes write...</td>\n",
       "      <td>El Salvador</td>\n",
       "      <td>Employed full-time</td>\n",
       "      <td>Some college/university study without earning ...</td>\n",
       "      <td>A business discipline</td>\n",
       "      <td>About half the time</td>\n",
       "      <td>10 to 19 employees</td>\n",
       "      <td>Publicly-traded corporation</td>\n",
       "      <td>Analyst or consultant; Data scientist</td>\n",
       "      <td>10.0</td>\n",
       "      <td>10.0</td>\n",
       "      <td>1</td>\n",
       "      <td>3</td>\n",
       "    </tr>\n",
       "    <tr>\n",
       "      <th>658</th>\n",
       "      <td>Professional non-developer who sometimes write...</td>\n",
       "      <td>United States</td>\n",
       "      <td>Employed full-time</td>\n",
       "      <td>Master's degree</td>\n",
       "      <td>A business discipline</td>\n",
       "      <td>A few days each month</td>\n",
       "      <td>1,000 to 4,999 employees</td>\n",
       "      <td>Privately-held limited company, not in startup...</td>\n",
       "      <td>Analyst or consultant; Data scientist</td>\n",
       "      <td>8.0</td>\n",
       "      <td>9.0</td>\n",
       "      <td>1</td>\n",
       "      <td>1</td>\n",
       "    </tr>\n",
       "    <tr>\n",
       "      <th>766</th>\n",
       "      <td>Professional non-developer who sometimes write...</td>\n",
       "      <td>United States</td>\n",
       "      <td>Employed full-time</td>\n",
       "      <td>Secondary school</td>\n",
       "      <td>NaN</td>\n",
       "      <td>Never</td>\n",
       "      <td>500 to 999 employees</td>\n",
       "      <td>Privately-held limited company, not in startup...</td>\n",
       "      <td>Analyst or consultant; Data scientist</td>\n",
       "      <td>0.0</td>\n",
       "      <td>2.0</td>\n",
       "      <td>1</td>\n",
       "      <td>0</td>\n",
       "    </tr>\n",
       "  </tbody>\n",
       "</table>\n",
       "</div>"
      ],
      "text/plain": [
       "                                          Professional        Country  \\\n",
       "3    Professional non-developer who sometimes write...  United States   \n",
       "6    Professional non-developer who sometimes write...  United States   \n",
       "528  Professional non-developer who sometimes write...    El Salvador   \n",
       "658  Professional non-developer who sometimes write...  United States   \n",
       "766  Professional non-developer who sometimes write...  United States   \n",
       "\n",
       "       EmploymentStatus                                    FormalEducation  \\\n",
       "3    Employed full-time                                    Doctoral degree   \n",
       "6    Employed full-time                                    Master's degree   \n",
       "528  Employed full-time  Some college/university study without earning ...   \n",
       "658  Employed full-time                                    Master's degree   \n",
       "766  Employed full-time                                   Secondary school   \n",
       "\n",
       "                                    MajorUndergrad  \\\n",
       "3    A non-computer-focused engineering discipline   \n",
       "6    A non-computer-focused engineering discipline   \n",
       "528                          A business discipline   \n",
       "658                          A business discipline   \n",
       "766                                            NaN   \n",
       "\n",
       "                                            HomeRemote  \\\n",
       "3    Less than half the time, but at least one day ...   \n",
       "6    Less than half the time, but at least one day ...   \n",
       "528                                About half the time   \n",
       "658                              A few days each month   \n",
       "766                                              Never   \n",
       "\n",
       "                  CompanySize  \\\n",
       "3    10,000 or more employees   \n",
       "6          20 to 99 employees   \n",
       "528        10 to 19 employees   \n",
       "658  1,000 to 4,999 employees   \n",
       "766      500 to 999 employees   \n",
       "\n",
       "                                           CompanyType  \\\n",
       "3    Non-profit/non-governmental organization or pr...   \n",
       "6        Government agency or public school/university   \n",
       "528                        Publicly-traded corporation   \n",
       "658  Privately-held limited company, not in startup...   \n",
       "766  Privately-held limited company, not in startup...   \n",
       "\n",
       "                          NonDeveloperType  CareerSatisfaction  \\\n",
       "3                           Data scientist                 6.0   \n",
       "6                           Data scientist                 7.0   \n",
       "528  Analyst or consultant; Data scientist                10.0   \n",
       "658  Analyst or consultant; Data scientist                 8.0   \n",
       "766  Analyst or consultant; Data scientist                 0.0   \n",
       "\n",
       "     JobSatisfaction  DataScientist HomeRemoteCode  \n",
       "3                3.0              1              2  \n",
       "6                6.0              1              2  \n",
       "528             10.0              1              3  \n",
       "658              9.0              1              1  \n",
       "766              2.0              1              0  "
      ]
     },
     "execution_count": 225,
     "metadata": {},
     "output_type": "execute_result"
    }
   ],
   "source": [
    "ds_data['HomeRemoteCode'] = ds_data['HomeRemote'].apply(lambda x: home_remote(x))\n",
    "ds_home_remote_data = ds_data[ds_data.HomeRemoteCode != '.']\n",
    "ds_home_remote_data.head()"
   ]
  },
  {
   "cell_type": "code",
   "execution_count": 157,
   "metadata": {
    "collapsed": false
   },
   "outputs": [],
   "source": [
    "ci_dict = {}\n",
    "means_dict = {}\n",
    "\n",
    "for code in list(range(6)):\n",
    "    \n",
    "    ci_dict[code] = sm.DescrStatsW(home_remote_data[home_remote_data.HomeRemoteCode == code].JobSatisfaction.dropna()).zconfint_mean(alpha=0.05)\n",
    "    means_dict[code] = home_remote_data[home_remote_data.HomeRemoteCode == code].JobSatisfaction.dropna().mean()\n",
    "    "
   ]
  },
  {
   "cell_type": "code",
   "execution_count": 158,
   "metadata": {
    "collapsed": false
   },
   "outputs": [
    {
     "data": {
      "text/plain": [
       "{0: (6.5927196263782744, 6.6722851370386831),\n",
       " 1: (7.0446062225902404, 7.1104114548642068),\n",
       " 2: (7.0544881408171065, 7.1857614691672929),\n",
       " 3: (6.8598047315491399, 7.0875991794420941),\n",
       " 4: (6.8449351418033624, 7.0614318993951395),\n",
       " 5: (7.3237102010243387, 7.4531493031078924)}"
      ]
     },
     "execution_count": 158,
     "metadata": {},
     "output_type": "execute_result"
    }
   ],
   "source": [
    "ci_dict"
   ]
  },
  {
   "cell_type": "code",
   "execution_count": 161,
   "metadata": {
    "collapsed": false
   },
   "outputs": [],
   "source": [
    "ci_list = []\n",
    "mean_list = []\n",
    "\n",
    "for code in list(range(6)):\n",
    "    \n",
    "    ci = sm.DescrStatsW(home_remote_data[home_remote_data.HomeRemoteCode == code].JobSatisfaction.dropna()).zconfint_mean(alpha=0.05)\n",
    "    ci_list.append(abs(ci[0]-ci[1]))\n",
    "    \n",
    "    mean_list.append(home_remote_data[home_remote_data.HomeRemoteCode == code].JobSatisfaction.dropna().mean())"
   ]
  },
  {
   "cell_type": "code",
   "execution_count": 162,
   "metadata": {
    "collapsed": false
   },
   "outputs": [
    {
     "data": {
      "text/plain": [
       "[0.079565510660408734,\n",
       " 0.065805232273966396,\n",
       " 0.13127332835018635,\n",
       " 0.22779444789295411,\n",
       " 0.21649675759177711,\n",
       " 0.12943910208355369]"
      ]
     },
     "execution_count": 162,
     "metadata": {},
     "output_type": "execute_result"
    }
   ],
   "source": [
    "ci_list"
   ]
  },
  {
   "cell_type": "code",
   "execution_count": 228,
   "metadata": {
    "collapsed": false
   },
   "outputs": [
    {
     "data": {
      "text/html": [
       "<div>\n",
       "<table border=\"1\" class=\"dataframe\">\n",
       "  <thead>\n",
       "    <tr style=\"text-align: right;\">\n",
       "      <th></th>\n",
       "      <th>JobSatisfaction</th>\n",
       "      <th>Code</th>\n",
       "    </tr>\n",
       "    <tr>\n",
       "      <th>HomeRemoteCode</th>\n",
       "      <th></th>\n",
       "      <th></th>\n",
       "    </tr>\n",
       "  </thead>\n",
       "  <tbody>\n",
       "    <tr>\n",
       "      <th>0</th>\n",
       "      <td>6.632502</td>\n",
       "      <td>0</td>\n",
       "    </tr>\n",
       "    <tr>\n",
       "      <th>1</th>\n",
       "      <td>7.077509</td>\n",
       "      <td>1</td>\n",
       "    </tr>\n",
       "    <tr>\n",
       "      <th>2</th>\n",
       "      <td>7.120125</td>\n",
       "      <td>2</td>\n",
       "    </tr>\n",
       "    <tr>\n",
       "      <th>3</th>\n",
       "      <td>6.973702</td>\n",
       "      <td>3</td>\n",
       "    </tr>\n",
       "    <tr>\n",
       "      <th>4</th>\n",
       "      <td>6.953184</td>\n",
       "      <td>4</td>\n",
       "    </tr>\n",
       "    <tr>\n",
       "      <th>5</th>\n",
       "      <td>7.388430</td>\n",
       "      <td>5</td>\n",
       "    </tr>\n",
       "  </tbody>\n",
       "</table>\n",
       "</div>"
      ],
      "text/plain": [
       "                JobSatisfaction  Code\n",
       "HomeRemoteCode                       \n",
       "0                      6.632502     0\n",
       "1                      7.077509     1\n",
       "2                      7.120125     2\n",
       "3                      6.973702     3\n",
       "4                      6.953184     4\n",
       "5                      7.388430     5"
      ]
     },
     "execution_count": 228,
     "metadata": {},
     "output_type": "execute_result"
    }
   ],
   "source": [
    "HR_means = home_remote_data.groupby('HomeRemoteCode')[['HomeRemoteCode', 'JobSatisfaction']].mean()\n",
    "HR_means['Code'] = list(range(6))\n",
    "HR_means"
   ]
  },
  {
   "cell_type": "code",
   "execution_count": 229,
   "metadata": {
    "collapsed": false
   },
   "outputs": [
    {
     "data": {
      "text/html": [
       "<div>\n",
       "<table border=\"1\" class=\"dataframe\">\n",
       "  <thead>\n",
       "    <tr style=\"text-align: right;\">\n",
       "      <th></th>\n",
       "      <th>JobSatisfaction</th>\n",
       "      <th>Code</th>\n",
       "    </tr>\n",
       "    <tr>\n",
       "      <th>HomeRemoteCode</th>\n",
       "      <th></th>\n",
       "      <th></th>\n",
       "    </tr>\n",
       "  </thead>\n",
       "  <tbody>\n",
       "    <tr>\n",
       "      <th>0</th>\n",
       "      <td>6.762264</td>\n",
       "      <td>0</td>\n",
       "    </tr>\n",
       "    <tr>\n",
       "      <th>1</th>\n",
       "      <td>7.062827</td>\n",
       "      <td>1</td>\n",
       "    </tr>\n",
       "    <tr>\n",
       "      <th>2</th>\n",
       "      <td>7.152174</td>\n",
       "      <td>2</td>\n",
       "    </tr>\n",
       "    <tr>\n",
       "      <th>3</th>\n",
       "      <td>6.906250</td>\n",
       "      <td>3</td>\n",
       "    </tr>\n",
       "    <tr>\n",
       "      <th>4</th>\n",
       "      <td>6.102041</td>\n",
       "      <td>4</td>\n",
       "    </tr>\n",
       "    <tr>\n",
       "      <th>5</th>\n",
       "      <td>6.536585</td>\n",
       "      <td>5</td>\n",
       "    </tr>\n",
       "  </tbody>\n",
       "</table>\n",
       "</div>"
      ],
      "text/plain": [
       "                JobSatisfaction  Code\n",
       "HomeRemoteCode                       \n",
       "0                      6.762264     0\n",
       "1                      7.062827     1\n",
       "2                      7.152174     2\n",
       "3                      6.906250     3\n",
       "4                      6.102041     4\n",
       "5                      6.536585     5"
      ]
     },
     "execution_count": 229,
     "metadata": {},
     "output_type": "execute_result"
    }
   ],
   "source": [
    "ds_HR_means = ds_home_remote_data.groupby('HomeRemoteCode')[['HomeRemoteCode', 'JobSatisfaction']].mean()\n",
    "ds_HR_means['Code'] = list(range(6))\n",
    "ds_HR_means"
   ]
  },
  {
   "cell_type": "code",
   "execution_count": 256,
   "metadata": {
    "collapsed": false
   },
   "outputs": [
    {
     "data": {
      "image/png": "[encoded data removed]",
      "text/plain": [
       "<matplotlib.figure.Figure at 0x11beaaa58>"
      ]
     },
     "metadata": {},
     "output_type": "display_data"
    }
   ],
   "source": [
    "f, (ax1, ax2) = plt.subplots(2, figsize = (8, 12))\n",
    "sns.set_color_codes('pastel')\n",
    "\n",
    "sns.barplot(x=HR_means['Code'], y=HR_means['JobSatisfaction'], ci=95, ax=ax1)\n",
    "ax1.set_title('Remote Work and Job Satisfaction - all developers', fontsize=14)\n",
    "ax1.set_ylabel('Job Satisfaction')\n",
    "ax1.set_xlabel('Work from home code (0=Never, 5=all the time)')\n",
    "\n",
    "sns.barplot(x=ds_HR_means['Code'], y=ds_HR_means['JobSatisfaction'], ci=95, ax=ax2)\n",
    "ax2.set_title('Remote Work and Job Satisfaction - data scientists', fontsize = 14)\n",
    "ax2.set_ylabel('Job Satisfaction')\n",
    "ax2.set_xlabel('Work from home code (0=Never, 5=All the time)')\n",
    "\n",
    "plt.show()\n",
    "\n",
    "# Why don't the confidence intervals show on chart?\n",
    "# Why are the colors so weird?"
   ]
  },
  {
   "cell_type": "markdown",
   "metadata": {},
   "source": [
    "#### The frequency of working from home does not seem to have a substantial act on employee job satisfaction"
   ]
  },
  {
   "cell_type": "code",
   "execution_count": 257,
   "metadata": {
    "collapsed": false
   },
   "outputs": [
    {
     "data": {
      "image/png": "[encoded data removed]",
      "text/plain": [
       "<matplotlib.figure.Figure at 0x11b9fb9e8>"
      ]
     },
     "metadata": {},
     "output_type": "display_data"
    }
   ],
   "source": [
    "sns.set_color_codes('pastel')\n",
    "\n",
    "f, ax = plt.subplots()\n",
    "\n",
    "sns.distplot(ds_home_remote_data['HomeRemoteCode'].dropna(axis=0), bins=6, kde=False)\n",
    "ax.set_title('Data scientists working from home', fontsize=14)\n",
    "ax.set_ylabel('No. of Respondents')\n",
    "ax.set_xlabel('Work from home frequency (0=Never, 5=All the time)')\n",
    "\n",
    "plt.show()"
   ]
  },
  {
   "cell_type": "markdown",
   "metadata": {},
   "source": [
    "#### It appears that most data sceintists either never work from home or occasionally work from home. "
   ]
  },
  {
   "cell_type": "code",
   "execution_count": 278,
   "metadata": {
    "collapsed": false
   },
   "outputs": [],
   "source": [
    "js_company_type = ds_data.groupby('CompanyType')['JobSatisfaction'].mean().sort_values()"
   ]
  },
  {
   "cell_type": "code",
   "execution_count": 289,
   "metadata": {
    "collapsed": false
   },
   "outputs": [
    {
     "data": {
      "text/plain": [
       "[7.243589743589744,\n",
       " 7.113043478260869,\n",
       " 6.937007874015748,\n",
       " 6.891891891891892,\n",
       " nan,\n",
       " 6.153846153846154,\n",
       " 6.794117647058823,\n",
       " 7.0,\n",
       " 6.333333333333333,\n",
       " 6.6571428571428575,\n",
       " 7.0,\n",
       " 7.5]"
      ]
     },
     "execution_count": 289,
     "metadata": {},
     "output_type": "execute_result"
    }
   ],
   "source": [
    "co_types = ds_data['CompanyType'].unique()\n",
    "sat_level = []\n",
    "\n",
    "for type in x:\n",
    "    co_type = ds_data[ds_data.CompanyType == type]\n",
    "    avg_sat = co_type['JobSatisfaction'].mean()\n",
    "    sat_level.append(avg_sat)\n",
    "\n",
    "sat_level"
   ]
  },
  {
   "cell_type": "code",
   "execution_count": 285,
   "metadata": {
    "collapsed": true
   },
   "outputs": [],
   "source": [
    "company_sat_level = {'CompanyType': co_types, 'JobSatisfaction': sat_level}\n",
    "\n",
    "job_sat_df = pd.DataFrame.from_dict(company_sat_level)"
   ]
  },
  {
   "cell_type": "code",
   "execution_count": 303,
   "metadata": {
    "collapsed": false
   },
   "outputs": [
    {
     "data": {
      "text/html": [
       "<div>\n",
       "<table border=\"1\" class=\"dataframe\">\n",
       "  <thead>\n",
       "    <tr style=\"text-align: right;\">\n",
       "      <th></th>\n",
       "      <th>CompanyType</th>\n",
       "      <th>JobSatisfaction</th>\n",
       "    </tr>\n",
       "  </thead>\n",
       "  <tbody>\n",
       "    <tr>\n",
       "      <th>11</th>\n",
       "      <td>Pre-series A startup</td>\n",
       "      <td>7.500000</td>\n",
       "    </tr>\n",
       "    <tr>\n",
       "      <th>0</th>\n",
       "      <td>Non-profit/non-governmental organization or pr...</td>\n",
       "      <td>7.243590</td>\n",
       "    </tr>\n",
       "    <tr>\n",
       "      <th>1</th>\n",
       "      <td>Government agency or public school/university</td>\n",
       "      <td>7.113043</td>\n",
       "    </tr>\n",
       "    <tr>\n",
       "      <th>7</th>\n",
       "      <td>Sole proprietorship or partnership, not in sta...</td>\n",
       "      <td>7.000000</td>\n",
       "    </tr>\n",
       "    <tr>\n",
       "      <th>10</th>\n",
       "      <td>Something else</td>\n",
       "      <td>7.000000</td>\n",
       "    </tr>\n",
       "    <tr>\n",
       "      <th>2</th>\n",
       "      <td>Publicly-traded corporation</td>\n",
       "      <td>6.937008</td>\n",
       "    </tr>\n",
       "    <tr>\n",
       "      <th>3</th>\n",
       "      <td>Privately-held limited company, not in startup...</td>\n",
       "      <td>6.891892</td>\n",
       "    </tr>\n",
       "    <tr>\n",
       "      <th>6</th>\n",
       "      <td>Venture-funded startup</td>\n",
       "      <td>6.794118</td>\n",
       "    </tr>\n",
       "    <tr>\n",
       "      <th>9</th>\n",
       "      <td>I prefer not to answer</td>\n",
       "      <td>6.657143</td>\n",
       "    </tr>\n",
       "    <tr>\n",
       "      <th>8</th>\n",
       "      <td>I don't know</td>\n",
       "      <td>6.333333</td>\n",
       "    </tr>\n",
       "    <tr>\n",
       "      <th>5</th>\n",
       "      <td>State-owned company</td>\n",
       "      <td>6.153846</td>\n",
       "    </tr>\n",
       "  </tbody>\n",
       "</table>\n",
       "</div>"
      ],
      "text/plain": [
       "                                          CompanyType  JobSatisfaction\n",
       "11                               Pre-series A startup         7.500000\n",
       "0   Non-profit/non-governmental organization or pr...         7.243590\n",
       "1       Government agency or public school/university         7.113043\n",
       "7   Sole proprietorship or partnership, not in sta...         7.000000\n",
       "10                                     Something else         7.000000\n",
       "2                         Publicly-traded corporation         6.937008\n",
       "3   Privately-held limited company, not in startup...         6.891892\n",
       "6                              Venture-funded startup         6.794118\n",
       "9                              I prefer not to answer         6.657143\n",
       "8                                        I don't know         6.333333\n",
       "5                                 State-owned company         6.153846"
      ]
     },
     "execution_count": 303,
     "metadata": {},
     "output_type": "execute_result"
    }
   ],
   "source": [
    "sat_sort = job_sat_df.dropna().sort_values('JobSatisfaction', ascending=False)\n",
    "sat_sort"
   ]
  },
  {
   "cell_type": "code",
   "execution_count": 313,
   "metadata": {
    "collapsed": false
   },
   "outputs": [
    {
     "data": {
      "image/png": "[encoded data removed]",
      "text/plain": [
       "<matplotlib.figure.Figure at 0x121374f60>"
      ]
     },
     "metadata": {},
     "output_type": "display_data"
    }
   ],
   "source": [
    "f, ax = plt.subplots()\n",
    "xlabels = ['Startup (Pre-Series A)', 'Non-profit or NGO', 'Government', 'Sole Proprietorship', 'Other',\n",
    "          'Public Company', 'Private Company', 'Startup (Venture Funded)', 'No answer', 'Unknown', \n",
    "           'State-owned company']\n",
    "\n",
    "sns.barplot(x=sat_sort['CompanyType'].dropna(), y=sat_sort['JobSatisfaction'].dropna(), ax=ax)\n",
    "ax.set_xlabel('Company Type', fontsize=12)\n",
    "ax.set_ylabel('Satisfaction Level', fontsize=12)\n",
    "ax.set_xticklabels(xlabels, rotation=90, fontsize=12)\n",
    "ax.set_title('Mean Satisfaction Level by Company Type', fontsize=14)\n",
    "plt.show()"
   ]
  },
  {
   "cell_type": "code",
   "execution_count": 348,
   "metadata": {
    "collapsed": false
   },
   "outputs": [
    {
     "data": {
      "text/html": [
       "<div>\n",
       "<table border=\"1\" class=\"dataframe\">\n",
       "  <thead>\n",
       "    <tr style=\"text-align: right;\">\n",
       "      <th></th>\n",
       "      <th>CompanyType</th>\n",
       "      <th>DataScientists</th>\n",
       "      <th>NonDataScientists</th>\n",
       "    </tr>\n",
       "  </thead>\n",
       "  <tbody>\n",
       "    <tr>\n",
       "      <th>5</th>\n",
       "      <td>Privately-held limited company, not in startup...</td>\n",
       "      <td>262</td>\n",
       "      <td>None</td>\n",
       "    </tr>\n",
       "    <tr>\n",
       "      <th>0</th>\n",
       "      <td>Government agency or public school/university</td>\n",
       "      <td>231</td>\n",
       "      <td>None</td>\n",
       "    </tr>\n",
       "    <tr>\n",
       "      <th>6</th>\n",
       "      <td>Publicly-traded corporation</td>\n",
       "      <td>128</td>\n",
       "      <td>None</td>\n",
       "    </tr>\n",
       "    <tr>\n",
       "      <th>3</th>\n",
       "      <td>Non-profit/non-governmental organization or pr...</td>\n",
       "      <td>78</td>\n",
       "      <td>None</td>\n",
       "    </tr>\n",
       "    <tr>\n",
       "      <th>1</th>\n",
       "      <td>I don't know</td>\n",
       "      <td>54</td>\n",
       "      <td>None</td>\n",
       "    </tr>\n",
       "  </tbody>\n",
       "</table>\n",
       "</div>"
      ],
      "text/plain": [
       "                                         CompanyType  DataScientists  \\\n",
       "5  Privately-held limited company, not in startup...             262   \n",
       "0      Government agency or public school/university             231   \n",
       "6                        Publicly-traded corporation             128   \n",
       "3  Non-profit/non-governmental organization or pr...              78   \n",
       "1                                       I don't know              54   \n",
       "\n",
       "  NonDataScientists  \n",
       "5              None  \n",
       "0              None  \n",
       "6              None  \n",
       "3              None  \n",
       "1              None  "
      ]
     },
     "execution_count": 348,
     "metadata": {},
     "output_type": "execute_result"
    }
   ],
   "source": [
    "companies = ds_data.groupby('CompanyType')['Professional'].count().reset_index()\n",
    "companies.columns = ['CompanyType', 'DataScientists']\n",
    "#companies.set_index('CompanyType', inplace=True)\n",
    "companies = companies.sort_values('DataScientists', ascending=False)\n",
    "companies['NonDataScientists'] = None\n",
    "companies.head()"
   ]
  },
  {
   "cell_type": "code",
   "execution_count": 354,
   "metadata": {
    "collapsed": false
   },
   "outputs": [],
   "source": [
    "def company_type_numbers(co_type):\n",
    "    sort_by_type = non_ds_data[non_ds_data.CompanyType == co_type]\n",
    "    return len(sort_by_type)\n",
    "    \n",
    "companies['NonDataScientists'] = companies['CompanyType'].apply(lambda x: company_type_numbers(x))    "
   ]
  },
  {
   "cell_type": "code",
   "execution_count": 360,
   "metadata": {
    "collapsed": false
   },
   "outputs": [],
   "source": [
    "tot_ds = companies['DataScientists'].sum()\n",
    "tot_nonds = companies['NonDataScientists'].sum()"
   ]
  },
  {
   "cell_type": "code",
   "execution_count": 365,
   "metadata": {
    "collapsed": false
   },
   "outputs": [],
   "source": [
    "def fractions(number, total):\n",
    "    return number/total"
   ]
  },
  {
   "cell_type": "code",
   "execution_count": 391,
   "metadata": {
    "collapsed": false
   },
   "outputs": [],
   "source": [
    "companies['DS_Fraction'] = companies['DataScientists'].apply(lambda x: fractions(x, tot_ds))\n",
    "companies['NonDS_Fraction'] = companies['NonDataScientists'].apply(lambda x: fractions(x, tot_nonds))"
   ]
  },
  {
   "cell_type": "code",
   "execution_count": 390,
   "metadata": {
    "collapsed": false
   },
   "outputs": [
    {
     "data": {
      "image/png": "[encoded data removed]",
      "text/plain": [
       "<matplotlib.figure.Figure at 0x1143f0be0>"
      ]
     },
     "metadata": {},
     "output_type": "display_data"
    }
   ],
   "source": [
    "x = ['Private Company', 'Government', 'Public Company', 'Non-profit/NGO', 'Unknown', 'Sole Proprietorship', 'No answer',\n",
    "            'VF Startup', 'State-owned company', 'Pre-series A startup', 'Something Else']\n",
    "f, (ax1, ax2) = plt.subplots(2, figsize=(10, 12))\n",
    "sns.set_color_codes('pastel')\n",
    "\n",
    "ax1 = sns.barplot(x, y=companies['DS_Fraction'], label='Data Scientists', ax=ax1)\n",
    "ax1.set_xticklabels(x, rotation=25)\n",
    "ax1.set_ylabel('Fraction of Data Scientists')\n",
    "ax1.set_ylim(0, 0.5)\n",
    "ax1.set_title('Data Scientists and Developers by Company Type', fontsize=14)\n",
    "\n",
    "ax2 = sns.barplot(x, y=companies['NonDS_Fraction'], label='Non-data Scientists', ax=ax2)\n",
    "ax2.set_xticklabels(x, rotation=25)\n",
    "ax2.set_ylabel('Fraction of Non Data Scientists')\n",
    "ax2.set_ylim(0, 0.5)\n",
    "\n",
    "plt.show()\n",
    "# how to get the bars next to each other using seaborn? is this possible?"
   ]
  },
  {
   "cell_type": "markdown",
   "metadata": {},
   "source": [
    "#### Data scientists are most likely to work in a private company or government while non-data scientists are most likely to work in a private company or public company. Data scientists appear to be more likely to work in a non-profit or NGO compared to non-data scientists while non-data scientists appear to be slightly more likely to work at a startup. Satisfaction levels amoung data scientists are relatively high for all company types; employees at state owned companies seem to be the least satisfied while those at early stage startups (pre-series A) seem to be most satisfied. "
   ]
  },
  {
   "cell_type": "code",
   "execution_count": 273,
   "metadata": {
    "collapsed": false
   },
   "outputs": [
    {
     "data": {
      "text/html": [
       "<div>\n",
       "<table border=\"1\" class=\"dataframe\">\n",
       "  <thead>\n",
       "    <tr style=\"text-align: right;\">\n",
       "      <th></th>\n",
       "      <th>CareerSatisfaction</th>\n",
       "      <th>JobSatisfaction</th>\n",
       "    </tr>\n",
       "    <tr>\n",
       "      <th>FormalEducation</th>\n",
       "      <th></th>\n",
       "      <th></th>\n",
       "    </tr>\n",
       "  </thead>\n",
       "  <tbody>\n",
       "    <tr>\n",
       "      <th>Bachelor's degree</th>\n",
       "      <td>6.944272</td>\n",
       "      <td>6.693069</td>\n",
       "    </tr>\n",
       "    <tr>\n",
       "      <th>Doctoral degree</th>\n",
       "      <td>7.521212</td>\n",
       "      <td>7.341772</td>\n",
       "    </tr>\n",
       "    <tr>\n",
       "      <th>I never completed any formal education</th>\n",
       "      <td>5.900000</td>\n",
       "      <td>7.000000</td>\n",
       "    </tr>\n",
       "    <tr>\n",
       "      <th>I prefer not to answer</th>\n",
       "      <td>6.615385</td>\n",
       "      <td>8.000000</td>\n",
       "    </tr>\n",
       "    <tr>\n",
       "      <th>Master's degree</th>\n",
       "      <td>7.173267</td>\n",
       "      <td>6.971129</td>\n",
       "    </tr>\n",
       "    <tr>\n",
       "      <th>Primary/elementary school</th>\n",
       "      <td>4.500000</td>\n",
       "      <td>5.000000</td>\n",
       "    </tr>\n",
       "    <tr>\n",
       "      <th>Professional degree</th>\n",
       "      <td>7.785714</td>\n",
       "      <td>6.785714</td>\n",
       "    </tr>\n",
       "    <tr>\n",
       "      <th>Secondary school</th>\n",
       "      <td>6.945946</td>\n",
       "      <td>6.303030</td>\n",
       "    </tr>\n",
       "    <tr>\n",
       "      <th>Some college/university study without earning a bachelor's degree</th>\n",
       "      <td>6.677686</td>\n",
       "      <td>6.531532</td>\n",
       "    </tr>\n",
       "  </tbody>\n",
       "</table>\n",
       "</div>"
      ],
      "text/plain": [
       "                                                    CareerSatisfaction  \\\n",
       "FormalEducation                                                          \n",
       "Bachelor's degree                                             6.944272   \n",
       "Doctoral degree                                               7.521212   \n",
       "I never completed any formal education                        5.900000   \n",
       "I prefer not to answer                                        6.615385   \n",
       "Master's degree                                               7.173267   \n",
       "Primary/elementary school                                     4.500000   \n",
       "Professional degree                                           7.785714   \n",
       "Secondary school                                              6.945946   \n",
       "Some college/university study without earning a...            6.677686   \n",
       "\n",
       "                                                    JobSatisfaction  \n",
       "FormalEducation                                                      \n",
       "Bachelor's degree                                          6.693069  \n",
       "Doctoral degree                                            7.341772  \n",
       "I never completed any formal education                     7.000000  \n",
       "I prefer not to answer                                     8.000000  \n",
       "Master's degree                                            6.971129  \n",
       "Primary/elementary school                                  5.000000  \n",
       "Professional degree                                        6.785714  \n",
       "Secondary school                                           6.303030  \n",
       "Some college/university study without earning a...         6.531532  "
      ]
     },
     "execution_count": 273,
     "metadata": {},
     "output_type": "execute_result"
    }
   ],
   "source": [
    "ds_data.groupby('FormalEducation')[['CareerSatisfaction', 'JobSatisfaction']].mean()"
   ]
  },
  {
   "cell_type": "code",
   "execution_count": null,
   "metadata": {
    "collapsed": true
   },
   "outputs": [],
   "source": []
  }
 ],
 "metadata": {
  "kernelspec": {
   "display_name": "Python 3",
   "language": "python",
   "name": "python3"
  },
  "language_info": {
   "codemirror_mode": {
    "name": "ipython",
    "version": 3
   },
   "file_extension": ".py",
   "mimetype": "text/x-python",
   "name": "python",
   "nbconvert_exporter": "python",
   "pygments_lexer": "ipython3",
   "version": "3.6.0"
  }
 },
 "nbformat": 4,
 "nbformat_minor": 2
}
