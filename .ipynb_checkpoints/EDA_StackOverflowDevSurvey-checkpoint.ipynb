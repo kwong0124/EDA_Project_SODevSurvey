{
 "cells": [
  {
   "cell_type": "markdown",
   "metadata": {},
   "source": [
    "# Exploratory Data Analysis Project"
   ]
  },
  {
   "cell_type": "markdown",
   "metadata": {},
   "source": [
    "## Data science and the stack overflow developers survery\n",
    "### Using the stack overflow data in conjunction with any other publicly available datasets, answer this question: Where are data scientists working and who are they working for? How career satisfied are Data Scientists?"
   ]
  },
  {
   "cell_type": "code",
   "execution_count": 162,
   "metadata": {
    "collapsed": true
   },
   "outputs": [],
   "source": [
    "import pandas as pd\n",
    "import numpy as np\n",
    "import matplotlib.pyplot as plt\n",
    "import seaborn as sn\n",
    "import re\n",
    "%matplotlib inline"
   ]
  },
  {
   "cell_type": "code",
   "execution_count": 4,
   "metadata": {
    "collapsed": false
   },
   "outputs": [],
   "source": [
    "data = pd.read_csv('../data/survey_results_public.csv')"
   ]
  },
  {
   "cell_type": "code",
   "execution_count": 7,
   "metadata": {
    "collapsed": false
   },
   "outputs": [
    {
     "data": {
      "text/plain": [
       "(51392, 154)"
      ]
     },
     "execution_count": 7,
     "metadata": {},
     "output_type": "execute_result"
    }
   ],
   "source": [
    "data.shape"
   ]
  },
  {
   "cell_type": "code",
   "execution_count": 10,
   "metadata": {
    "collapsed": false
   },
   "outputs": [],
   "source": [
    "narrow_data = data[['Professional', 'Country', 'EmploymentStatus', 'FormalEducation', 'MajorUndergrad', 'HomeRemote',\n",
    "               'CompanySize', 'CompanyType', 'NonDeveloperType', 'CareerSatisfaction', 'JobSatisfaction']]"
   ]
  },
  {
   "cell_type": "code",
   "execution_count": 12,
   "metadata": {
    "collapsed": false
   },
   "outputs": [
    {
     "data": {
      "text/plain": [
       "(51392, 11)"
      ]
     },
     "execution_count": 12,
     "metadata": {},
     "output_type": "execute_result"
    }
   ],
   "source": [
    "narrow_data.shape"
   ]
  },
  {
   "cell_type": "code",
   "execution_count": 155,
   "metadata": {
    "collapsed": false
   },
   "outputs": [
    {
     "data": {
      "text/html": [
       "<div>\n",
       "<table border=\"1\" class=\"dataframe\">\n",
       "  <thead>\n",
       "    <tr style=\"text-align: right;\">\n",
       "      <th></th>\n",
       "      <th>Professional</th>\n",
       "      <th>Country</th>\n",
       "      <th>EmploymentStatus</th>\n",
       "      <th>FormalEducation</th>\n",
       "      <th>MajorUndergrad</th>\n",
       "      <th>HomeRemote</th>\n",
       "      <th>CompanySize</th>\n",
       "      <th>CompanyType</th>\n",
       "      <th>NonDeveloperType</th>\n",
       "      <th>CareerSatisfaction</th>\n",
       "      <th>JobSatisfaction</th>\n",
       "    </tr>\n",
       "  </thead>\n",
       "  <tbody>\n",
       "    <tr>\n",
       "      <th>0</th>\n",
       "      <td>Student</td>\n",
       "      <td>United States</td>\n",
       "      <td>Not employed, and not looking for work</td>\n",
       "      <td>Secondary school</td>\n",
       "      <td>NaN</td>\n",
       "      <td>NaN</td>\n",
       "      <td>NaN</td>\n",
       "      <td>NaN</td>\n",
       "      <td>NaN</td>\n",
       "      <td>NaN</td>\n",
       "      <td>NaN</td>\n",
       "    </tr>\n",
       "    <tr>\n",
       "      <th>1</th>\n",
       "      <td>Student</td>\n",
       "      <td>United Kingdom</td>\n",
       "      <td>Employed part-time</td>\n",
       "      <td>Some college/university study without earning ...</td>\n",
       "      <td>Computer science or software engineering</td>\n",
       "      <td>More than half, but not all, the time</td>\n",
       "      <td>20 to 99 employees</td>\n",
       "      <td>Privately-held limited company, not in startup...</td>\n",
       "      <td>NaN</td>\n",
       "      <td>NaN</td>\n",
       "      <td>NaN</td>\n",
       "    </tr>\n",
       "    <tr>\n",
       "      <th>2</th>\n",
       "      <td>Professional developer</td>\n",
       "      <td>United Kingdom</td>\n",
       "      <td>Employed full-time</td>\n",
       "      <td>Bachelor's degree</td>\n",
       "      <td>Computer science or software engineering</td>\n",
       "      <td>Less than half the time, but at least one day ...</td>\n",
       "      <td>10,000 or more employees</td>\n",
       "      <td>Publicly-traded corporation</td>\n",
       "      <td>NaN</td>\n",
       "      <td>8.0</td>\n",
       "      <td>9.0</td>\n",
       "    </tr>\n",
       "    <tr>\n",
       "      <th>3</th>\n",
       "      <td>Professional non-developer who sometimes write...</td>\n",
       "      <td>United States</td>\n",
       "      <td>Employed full-time</td>\n",
       "      <td>Doctoral degree</td>\n",
       "      <td>A non-computer-focused engineering discipline</td>\n",
       "      <td>Less than half the time, but at least one day ...</td>\n",
       "      <td>10,000 or more employees</td>\n",
       "      <td>Non-profit/non-governmental organization or pr...</td>\n",
       "      <td>Data scientist</td>\n",
       "      <td>6.0</td>\n",
       "      <td>3.0</td>\n",
       "    </tr>\n",
       "    <tr>\n",
       "      <th>4</th>\n",
       "      <td>Professional developer</td>\n",
       "      <td>Switzerland</td>\n",
       "      <td>Employed full-time</td>\n",
       "      <td>Master's degree</td>\n",
       "      <td>Computer science or software engineering</td>\n",
       "      <td>Never</td>\n",
       "      <td>10 to 19 employees</td>\n",
       "      <td>Privately-held limited company, not in startup...</td>\n",
       "      <td>NaN</td>\n",
       "      <td>6.0</td>\n",
       "      <td>8.0</td>\n",
       "    </tr>\n",
       "  </tbody>\n",
       "</table>\n",
       "</div>"
      ],
      "text/plain": [
       "                                        Professional         Country  \\\n",
       "0                                            Student   United States   \n",
       "1                                            Student  United Kingdom   \n",
       "2                             Professional developer  United Kingdom   \n",
       "3  Professional non-developer who sometimes write...   United States   \n",
       "4                             Professional developer     Switzerland   \n",
       "\n",
       "                         EmploymentStatus  \\\n",
       "0  Not employed, and not looking for work   \n",
       "1                      Employed part-time   \n",
       "2                      Employed full-time   \n",
       "3                      Employed full-time   \n",
       "4                      Employed full-time   \n",
       "\n",
       "                                     FormalEducation  \\\n",
       "0                                   Secondary school   \n",
       "1  Some college/university study without earning ...   \n",
       "2                                  Bachelor's degree   \n",
       "3                                    Doctoral degree   \n",
       "4                                    Master's degree   \n",
       "\n",
       "                                  MajorUndergrad  \\\n",
       "0                                            NaN   \n",
       "1       Computer science or software engineering   \n",
       "2       Computer science or software engineering   \n",
       "3  A non-computer-focused engineering discipline   \n",
       "4       Computer science or software engineering   \n",
       "\n",
       "                                          HomeRemote  \\\n",
       "0                                                NaN   \n",
       "1              More than half, but not all, the time   \n",
       "2  Less than half the time, but at least one day ...   \n",
       "3  Less than half the time, but at least one day ...   \n",
       "4                                              Never   \n",
       "\n",
       "                CompanySize  \\\n",
       "0                       NaN   \n",
       "1        20 to 99 employees   \n",
       "2  10,000 or more employees   \n",
       "3  10,000 or more employees   \n",
       "4        10 to 19 employees   \n",
       "\n",
       "                                         CompanyType NonDeveloperType  \\\n",
       "0                                                NaN              NaN   \n",
       "1  Privately-held limited company, not in startup...              NaN   \n",
       "2                        Publicly-traded corporation              NaN   \n",
       "3  Non-profit/non-governmental organization or pr...   Data scientist   \n",
       "4  Privately-held limited company, not in startup...              NaN   \n",
       "\n",
       "   CareerSatisfaction  JobSatisfaction  \n",
       "0                 NaN              NaN  \n",
       "1                 NaN              NaN  \n",
       "2                 8.0              9.0  \n",
       "3                 6.0              3.0  \n",
       "4                 6.0              8.0  "
      ]
     },
     "execution_count": 155,
     "metadata": {},
     "output_type": "execute_result"
    }
   ],
   "source": [
    "narrow_data[:5]"
   ]
  },
  {
   "cell_type": "markdown",
   "metadata": {},
   "source": [
    "### Narrow down the data to those identifying as a Data Scientist\n",
    "#### Note: This category contains other such as: Data scientist; educator - need to include these in the data"
   ]
  },
  {
   "cell_type": "code",
   "execution_count": 153,
   "metadata": {
    "collapsed": true
   },
   "outputs": [],
   "source": [
    "ds_data = narrow_data[narrow_data.NonDeveloperType == 'Data scientist'] \n",
    "# make a function to search for data scientist in each string"
   ]
  },
  {
   "cell_type": "code",
   "execution_count": 173,
   "metadata": {
    "collapsed": false
   },
   "outputs": [
    {
     "data": {
      "text/plain": [
       "0"
      ]
     },
     "execution_count": 173,
     "metadata": {},
     "output_type": "execute_result"
    }
   ],
   "source": [
    "def find_ds(a_string):\n",
    "    '''Takes a string and looks for the words \"Data scientist\", if so, returns the row'''\n",
    "    try:\n",
    "        if re.search(r'Data scientist', a_string):\n",
    "        #return ds.group()\n",
    "            return 1\n",
    "        else:\n",
    "            return 0\n",
    "    except:\n",
    "        #return None\n",
    "        return 0"
   ]
  },
  {
   "cell_type": "code",
   "execution_count": null,
   "metadata": {
    "collapsed": true
   },
   "outputs": [],
   "source": []
  },
  {
   "cell_type": "code",
   "execution_count": 148,
   "metadata": {
    "collapsed": false
   },
   "outputs": [
    {
     "data": {
      "text/plain": [
       "(380, 11)"
      ]
     },
     "execution_count": 148,
     "metadata": {},
     "output_type": "execute_result"
    }
   ],
   "source": [
    "ds_data.shape"
   ]
  },
  {
   "cell_type": "markdown",
   "metadata": {},
   "source": [
    "#### The data is now much smaller - only 380 people identified as \"Data Scientist\""
   ]
  },
  {
   "cell_type": "code",
   "execution_count": 18,
   "metadata": {
    "collapsed": false
   },
   "outputs": [
    {
     "data": {
      "text/html": [
       "<div>\n",
       "<table border=\"1\" class=\"dataframe\">\n",
       "  <thead>\n",
       "    <tr style=\"text-align: right;\">\n",
       "      <th></th>\n",
       "      <th>Professional</th>\n",
       "      <th>Country</th>\n",
       "      <th>EmploymentStatus</th>\n",
       "      <th>FormalEducation</th>\n",
       "      <th>MajorUndergrad</th>\n",
       "      <th>HomeRemote</th>\n",
       "      <th>CompanySize</th>\n",
       "      <th>CompanyType</th>\n",
       "      <th>NonDeveloperType</th>\n",
       "      <th>CareerSatisfaction</th>\n",
       "      <th>JobSatisfaction</th>\n",
       "    </tr>\n",
       "  </thead>\n",
       "  <tbody>\n",
       "    <tr>\n",
       "      <th>3</th>\n",
       "      <td>Professional non-developer who sometimes write...</td>\n",
       "      <td>United States</td>\n",
       "      <td>Employed full-time</td>\n",
       "      <td>Doctoral degree</td>\n",
       "      <td>A non-computer-focused engineering discipline</td>\n",
       "      <td>Less than half the time, but at least one day ...</td>\n",
       "      <td>10,000 or more employees</td>\n",
       "      <td>Non-profit/non-governmental organization or pr...</td>\n",
       "      <td>Data scientist</td>\n",
       "      <td>6.0</td>\n",
       "      <td>3.0</td>\n",
       "    </tr>\n",
       "    <tr>\n",
       "      <th>6</th>\n",
       "      <td>Professional non-developer who sometimes write...</td>\n",
       "      <td>United States</td>\n",
       "      <td>Employed full-time</td>\n",
       "      <td>Master's degree</td>\n",
       "      <td>A non-computer-focused engineering discipline</td>\n",
       "      <td>Less than half the time, but at least one day ...</td>\n",
       "      <td>20 to 99 employees</td>\n",
       "      <td>Government agency or public school/university</td>\n",
       "      <td>Data scientist</td>\n",
       "      <td>7.0</td>\n",
       "      <td>6.0</td>\n",
       "    </tr>\n",
       "    <tr>\n",
       "      <th>801</th>\n",
       "      <td>Professional non-developer who sometimes write...</td>\n",
       "      <td>United States</td>\n",
       "      <td>Employed full-time</td>\n",
       "      <td>Doctoral degree</td>\n",
       "      <td>A natural science</td>\n",
       "      <td>A few days each month</td>\n",
       "      <td>5,000 to 9,999 employees</td>\n",
       "      <td>Privately-held limited company, not in startup...</td>\n",
       "      <td>Data scientist</td>\n",
       "      <td>8.0</td>\n",
       "      <td>8.0</td>\n",
       "    </tr>\n",
       "    <tr>\n",
       "      <th>984</th>\n",
       "      <td>Professional non-developer who sometimes write...</td>\n",
       "      <td>United States</td>\n",
       "      <td>Employed full-time</td>\n",
       "      <td>Bachelor's degree</td>\n",
       "      <td>A non-computer-focused engineering discipline</td>\n",
       "      <td>A few days each month</td>\n",
       "      <td>100 to 499 employees</td>\n",
       "      <td>Privately-held limited company, not in startup...</td>\n",
       "      <td>Data scientist</td>\n",
       "      <td>7.0</td>\n",
       "      <td>7.0</td>\n",
       "    </tr>\n",
       "    <tr>\n",
       "      <th>1110</th>\n",
       "      <td>Professional non-developer who sometimes write...</td>\n",
       "      <td>South Africa</td>\n",
       "      <td>I prefer not to say</td>\n",
       "      <td>Doctoral degree</td>\n",
       "      <td>A natural science</td>\n",
       "      <td>NaN</td>\n",
       "      <td>NaN</td>\n",
       "      <td>NaN</td>\n",
       "      <td>Data scientist</td>\n",
       "      <td>6.0</td>\n",
       "      <td>NaN</td>\n",
       "    </tr>\n",
       "  </tbody>\n",
       "</table>\n",
       "</div>"
      ],
      "text/plain": [
       "                                           Professional        Country  \\\n",
       "3     Professional non-developer who sometimes write...  United States   \n",
       "6     Professional non-developer who sometimes write...  United States   \n",
       "801   Professional non-developer who sometimes write...  United States   \n",
       "984   Professional non-developer who sometimes write...  United States   \n",
       "1110  Professional non-developer who sometimes write...   South Africa   \n",
       "\n",
       "         EmploymentStatus    FormalEducation  \\\n",
       "3      Employed full-time    Doctoral degree   \n",
       "6      Employed full-time    Master's degree   \n",
       "801    Employed full-time    Doctoral degree   \n",
       "984    Employed full-time  Bachelor's degree   \n",
       "1110  I prefer not to say    Doctoral degree   \n",
       "\n",
       "                                     MajorUndergrad  \\\n",
       "3     A non-computer-focused engineering discipline   \n",
       "6     A non-computer-focused engineering discipline   \n",
       "801                               A natural science   \n",
       "984   A non-computer-focused engineering discipline   \n",
       "1110                              A natural science   \n",
       "\n",
       "                                             HomeRemote  \\\n",
       "3     Less than half the time, but at least one day ...   \n",
       "6     Less than half the time, but at least one day ...   \n",
       "801                               A few days each month   \n",
       "984                               A few days each month   \n",
       "1110                                                NaN   \n",
       "\n",
       "                   CompanySize  \\\n",
       "3     10,000 or more employees   \n",
       "6           20 to 99 employees   \n",
       "801   5,000 to 9,999 employees   \n",
       "984       100 to 499 employees   \n",
       "1110                       NaN   \n",
       "\n",
       "                                            CompanyType NonDeveloperType  \\\n",
       "3     Non-profit/non-governmental organization or pr...   Data scientist   \n",
       "6         Government agency or public school/university   Data scientist   \n",
       "801   Privately-held limited company, not in startup...   Data scientist   \n",
       "984   Privately-held limited company, not in startup...   Data scientist   \n",
       "1110                                                NaN   Data scientist   \n",
       "\n",
       "      CareerSatisfaction  JobSatisfaction  \n",
       "3                    6.0              3.0  \n",
       "6                    7.0              6.0  \n",
       "801                  8.0              8.0  \n",
       "984                  7.0              7.0  \n",
       "1110                 6.0              NaN  "
      ]
     },
     "execution_count": 18,
     "metadata": {},
     "output_type": "execute_result"
    }
   ],
   "source": [
    "ds_data.head()"
   ]
  },
  {
   "cell_type": "markdown",
   "metadata": {},
   "source": [
    "### First, we will look at the distribution of the career/job satisfaction data using a histogram"
   ]
  },
  {
   "cell_type": "code",
   "execution_count": 150,
   "metadata": {
    "collapsed": false
   },
   "outputs": [
    {
     "data": {
      "text/plain": [
       "<matplotlib.text.Text at 0x11bf9ed30>"
      ]
     },
     "execution_count": 150,
     "metadata": {},
     "output_type": "execute_result"
    },
    {
     "data": {
      "image/png": "[encoded data removed]",
      "text/plain": [
       "<matplotlib.figure.Figure at 0x11c937c18>"
      ]
     },
     "metadata": {},
     "output_type": "display_data"
    }
   ],
   "source": [
    "f, ax = plt.subplots(2, sharex=False, figsize=(8, 8))\n",
    "\n",
    "ax[0].hist(ds_data['CareerSatisfaction'].dropna(axis=0), edgecolor='k')\n",
    "ax[0].set_ylabel('No. Respondents', fontsize='13')\n",
    "ax[0].set_title('Career Satisfaction', fontsize='13')\n",
    "\n",
    "ax[1].hist(ds_data['JobSatisfaction'].dropna(axis=0), edgecolor='k')\n",
    "ax[1].set_xlabel('Satisfaction Level', fontsize='13')\n",
    "ax[1].set_ylabel('No. Respondents', fontsize='13')\n",
    "ax[1].set_title('Job Satisfaction', fontsize='13')\n",
    "\n",
    "plt.suptitle('Figure 1', fontsize='17')"
   ]
  },
  {
   "cell_type": "markdown",
   "metadata": {},
   "source": [
    "#### The data are right distributed - indicating that data scientists' career and job satisfaction levels skew toward higher levels of satisfaction"
   ]
  },
  {
   "cell_type": "markdown",
   "metadata": {},
   "source": [
    "### Now let's take a look at where data scientists are located\n",
    "#### The data will be limited to those countries with 10 or more data scientists in the survey to make the charts more legible"
   ]
  },
  {
   "cell_type": "code",
   "execution_count": 108,
   "metadata": {
    "collapsed": false
   },
   "outputs": [],
   "source": [
    "countries = ds_data.groupby('Country')['Professional'].count().reset_index()"
   ]
  },
  {
   "cell_type": "code",
   "execution_count": 121,
   "metadata": {
    "collapsed": false
   },
   "outputs": [
    {
     "data": {
      "text/html": [
       "<div>\n",
       "<table border=\"1\" class=\"dataframe\">\n",
       "  <thead>\n",
       "    <tr style=\"text-align: right;\">\n",
       "      <th></th>\n",
       "      <th>Country</th>\n",
       "      <th>Professional</th>\n",
       "    </tr>\n",
       "  </thead>\n",
       "  <tbody>\n",
       "    <tr>\n",
       "      <th>14</th>\n",
       "      <td>France</td>\n",
       "      <td>11</td>\n",
       "    </tr>\n",
       "    <tr>\n",
       "      <th>15</th>\n",
       "      <td>Germany</td>\n",
       "      <td>36</td>\n",
       "    </tr>\n",
       "    <tr>\n",
       "      <th>22</th>\n",
       "      <td>India</td>\n",
       "      <td>22</td>\n",
       "    </tr>\n",
       "    <tr>\n",
       "      <th>53</th>\n",
       "      <td>Switzerland</td>\n",
       "      <td>11</td>\n",
       "    </tr>\n",
       "    <tr>\n",
       "      <th>60</th>\n",
       "      <td>United Kingdom</td>\n",
       "      <td>31</td>\n",
       "    </tr>\n",
       "  </tbody>\n",
       "</table>\n",
       "</div>"
      ],
      "text/plain": [
       "           Country  Professional\n",
       "14          France            11\n",
       "15         Germany            36\n",
       "22           India            22\n",
       "53     Switzerland            11\n",
       "60  United Kingdom            31"
      ]
     },
     "execution_count": 121,
     "metadata": {},
     "output_type": "execute_result"
    }
   ],
   "source": [
    "top_countries = countries[countries['Professional'] >= 10]\n",
    "top_countries.head()"
   ]
  },
  {
   "cell_type": "code",
   "execution_count": 136,
   "metadata": {
    "collapsed": false
   },
   "outputs": [
    {
     "data": {
      "image/png": "[encoded data removed]",
      "text/plain": [
       "<matplotlib.figure.Figure at 0x11c8f6400>"
      ]
     },
     "metadata": {},
     "output_type": "display_data"
    }
   ],
   "source": [
    "labels = list(top_countries['Country'])\n",
    "sizes = list(top_countries['Professional'])\n",
    "\n",
    "patches, texts = plt.pie(sizes, shadow=True, startangle=90)\n",
    "plt.legend(patches, labels, loc='best')\n",
    "\n",
    "plt.axis('equal')\n",
    "plt.tight_layout()\n",
    "\n",
    "plt.show()"
   ]
  },
  {
   "cell_type": "code",
   "execution_count": 152,
   "metadata": {
    "collapsed": true
   },
   "outputs": [],
   "source": [
    "# how to prevent the legend from overlapping the pie chart?"
   ]
  },
  {
   "cell_type": "markdown",
   "metadata": {},
   "source": [
    "#### The country with the most data scientists appears to be the US, followed by the UK and Germany. \n",
    "\n",
    "### Now we will take a look at where data scientists are working (i.e. company types)\n",
    "\n",
    "#### Again we will limit the data to company types with more than 20 data scientists to keep the graphs cleaner and easier to read"
   ]
  },
  {
   "cell_type": "code",
   "execution_count": 124,
   "metadata": {
    "collapsed": false
   },
   "outputs": [
    {
     "data": {
      "text/plain": [
       "array(['Non-profit/non-governmental organization or private school/university',\n",
       "       'Government agency or public school/university',\n",
       "       'Privately-held limited company, not in startup mode', nan,\n",
       "       'State-owned company', 'Venture-funded startup',\n",
       "       'Publicly-traded corporation',\n",
       "       'Sole proprietorship or partnership, not in startup mode',\n",
       "       'I prefer not to answer', \"I don't know\", 'Pre-series A startup',\n",
       "       'Something else'], dtype=object)"
      ]
     },
     "execution_count": 124,
     "metadata": {},
     "output_type": "execute_result"
    }
   ],
   "source": [
    "ds_data.CompanyType.unique()"
   ]
  },
  {
   "cell_type": "code",
   "execution_count": 141,
   "metadata": {
    "collapsed": false
   },
   "outputs": [
    {
     "data": {
      "text/html": [
       "<div>\n",
       "<table border=\"1\" class=\"dataframe\">\n",
       "  <thead>\n",
       "    <tr style=\"text-align: right;\">\n",
       "      <th></th>\n",
       "      <th>CompanyType</th>\n",
       "      <th>Professional</th>\n",
       "    </tr>\n",
       "  </thead>\n",
       "  <tbody>\n",
       "    <tr>\n",
       "      <th>0</th>\n",
       "      <td>Government agency or public school/university</td>\n",
       "      <td>70</td>\n",
       "    </tr>\n",
       "    <tr>\n",
       "      <th>2</th>\n",
       "      <td>I prefer not to answer</td>\n",
       "      <td>20</td>\n",
       "    </tr>\n",
       "    <tr>\n",
       "      <th>3</th>\n",
       "      <td>Non-profit/non-governmental organization or pr...</td>\n",
       "      <td>34</td>\n",
       "    </tr>\n",
       "    <tr>\n",
       "      <th>5</th>\n",
       "      <td>Privately-held limited company, not in startup...</td>\n",
       "      <td>86</td>\n",
       "    </tr>\n",
       "    <tr>\n",
       "      <th>6</th>\n",
       "      <td>Publicly-traded corporation</td>\n",
       "      <td>46</td>\n",
       "    </tr>\n",
       "    <tr>\n",
       "      <th>10</th>\n",
       "      <td>Venture-funded startup</td>\n",
       "      <td>23</td>\n",
       "    </tr>\n",
       "  </tbody>\n",
       "</table>\n",
       "</div>"
      ],
      "text/plain": [
       "                                          CompanyType  Professional\n",
       "0       Government agency or public school/university            70\n",
       "2                              I prefer not to answer            20\n",
       "3   Non-profit/non-governmental organization or pr...            34\n",
       "5   Privately-held limited company, not in startup...            86\n",
       "6                         Publicly-traded corporation            46\n",
       "10                             Venture-funded startup            23"
      ]
     },
     "execution_count": 141,
     "metadata": {},
     "output_type": "execute_result"
    }
   ],
   "source": [
    "companies = ds_data.groupby('CompanyType')['Professional'].count().reset_index()\n",
    "top_companies = companies[companies['Professional'] >=20]\n",
    "top_companies"
   ]
  },
  {
   "cell_type": "code",
   "execution_count": 147,
   "metadata": {
    "collapsed": false
   },
   "outputs": [
    {
     "data": {
      "image/png": "[encoded data removed]",
      "text/plain": [
       "<matplotlib.figure.Figure at 0x11c662d30>"
      ]
     },
     "metadata": {},
     "output_type": "display_data"
    }
   ],
   "source": [
    "labels = list(top_companies['CompanyType'])\n",
    "sizes = list(top_companies['Professional'])\n",
    "\n",
    "patches, texts = plt.pie(sizes, shadow=True, startangle=90)\n",
    "plt.legend(patches, labels, loc='lower left')\n",
    "\n",
    "plt.axis('equal')\n",
    "plt.tight_layout()\n",
    "\n",
    "plt.show()"
   ]
  },
  {
   "cell_type": "code",
   "execution_count": 138,
   "metadata": {
    "collapsed": true
   },
   "outputs": [],
   "source": [
    "# Need to make this look better..."
   ]
  },
  {
   "cell_type": "markdown",
   "metadata": {},
   "source": [
    "#### Data scientists appear to be pretty well distributed across different company types."
   ]
  },
  {
   "cell_type": "markdown",
   "metadata": {},
   "source": [
    "### Other questions to explore:\n",
    "#### 1. How do these data compare to the general group of survey respondents? Are data scientist more or less satisfied with their jobs than other job types?\n",
    "#### 2. How does the distribution of countries compare to other developers?\n",
    "#### 3. Do how many data scientist work remotely compared to in the office? Are those that work remotely more or less satisfied?"
   ]
  },
  {
   "cell_type": "code",
   "execution_count": null,
   "metadata": {
    "collapsed": true
   },
   "outputs": [],
   "source": []
  }
 ],
 "metadata": {
  "kernelspec": {
   "display_name": "Python 3",
   "language": "python",
   "name": "python3"
  },
  "language_info": {
   "codemirror_mode": {
    "name": "ipython",
    "version": 3
   },
   "file_extension": ".py",
   "mimetype": "text/x-python",
   "name": "python",
   "nbconvert_exporter": "python",
   "pygments_lexer": "ipython3",
   "version": "3.6.0"
  }
 },
 "nbformat": 4,
 "nbformat_minor": 2
}
