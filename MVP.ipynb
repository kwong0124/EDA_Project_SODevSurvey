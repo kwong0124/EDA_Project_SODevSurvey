{
 "cells": [
  {
   "cell_type": "markdown",
   "metadata": {},
   "source": [
    "# MVP: Exploratory Data Analysis Project"
   ]
  },
  {
   "cell_type": "markdown",
   "metadata": {},
   "source": [
    "## Data science and the stack overflow developers survery\n",
    "### Goals: Using the stack overflow data answer this question: Where are data scientists working and who are they working for? How career satisfied are Data Scientists?"
   ]
  },
  {
   "cell_type": "markdown",
   "metadata": {},
   "source": [
    "## Initial Data Cleaning and Eploratory Findings\n",
    "#### I examined data from the 2017 Stack Overflow developer survey. The data contained responses from over 50,000 Stack Overflow users to questions on an extensive range of topics. Survey respondents included many types of Stack Overflow users such as web developers, mobile app developers, embedded applications developers and data scientists. Since I am interested in the career satisfaction, job placement and location and of data scientists, I started by narrowing the dataset to focus on categories that initally seemed to be related to this question. I got rid of most columns in the dataset (each coloumn corresponds to a question response, each row corresponds to one respondent). There were originally 154 columns, which I narrowed down to 11. Since we are only interested in data scientists, I made a function to grab rows in which the respondent identified as a data scientist. After applying this filter, the data contained 1100 responses.\n",
    "\n",
    "## Methodology\n",
    "#### With data cleaning complete, I began summarizing the data by making several histograms and bar charts. As they are directly related to the question of \"How career satisfied are data scientists?\", I made histograms of the career satisfaction and job satisfaction levels. Next, I sorted the responsdents by country and company type, and constructed a bar chart for each. Finally, I identified some additional questions and topics to explore based on the MVP analysis. "
   ]
  },
  {
   "cell_type": "code",
   "execution_count": 17,
   "metadata": {
    "collapsed": true
   },
   "outputs": [],
   "source": [
    "import pandas as pd\n",
    "import matplotlib.pyplot as plt\n",
    "import seaborn as sns\n",
    "%matplotlib inline\n",
    "pd.options.mode.chained_assignment = None  # Turn off warnings"
   ]
  },
  {
   "cell_type": "code",
   "execution_count": 3,
   "metadata": {
    "collapsed": false
   },
   "outputs": [],
   "source": [
    "data = pd.read_csv('../data/survey_results_public.csv')"
   ]
  },
  {
   "cell_type": "code",
   "execution_count": 4,
   "metadata": {
    "collapsed": false
   },
   "outputs": [
    {
     "data": {
      "text/plain": [
       "(51392, 154)"
      ]
     },
     "execution_count": 4,
     "metadata": {},
     "output_type": "execute_result"
    }
   ],
   "source": [
    "data.shape"
   ]
  },
  {
   "cell_type": "code",
   "execution_count": 7,
   "metadata": {
    "collapsed": false
   },
   "outputs": [],
   "source": [
    "narrow_data = data[['Professional', 'Country', 'EmploymentStatus', 'FormalEducation', 'MajorUndergrad', 'HomeRemote',\n",
    "               'CompanySize', 'CompanyType', 'NonDeveloperType', 'CareerSatisfaction', 'JobSatisfaction']]"
   ]
  },
  {
   "cell_type": "code",
   "execution_count": 8,
   "metadata": {
    "collapsed": false
   },
   "outputs": [
    {
     "data": {
      "text/plain": [
       "(51392, 11)"
      ]
     },
     "execution_count": 8,
     "metadata": {},
     "output_type": "execute_result"
    }
   ],
   "source": [
    "narrow_data.shape"
   ]
  },
  {
   "cell_type": "code",
   "execution_count": 9,
   "metadata": {
    "collapsed": false
   },
   "outputs": [
    {
     "data": {
      "text/html": [
       "<div>\n",
       "<table border=\"1\" class=\"dataframe\">\n",
       "  <thead>\n",
       "    <tr style=\"text-align: right;\">\n",
       "      <th></th>\n",
       "      <th>Professional</th>\n",
       "      <th>Country</th>\n",
       "      <th>EmploymentStatus</th>\n",
       "      <th>FormalEducation</th>\n",
       "      <th>MajorUndergrad</th>\n",
       "      <th>HomeRemote</th>\n",
       "      <th>CompanySize</th>\n",
       "      <th>CompanyType</th>\n",
       "      <th>NonDeveloperType</th>\n",
       "      <th>CareerSatisfaction</th>\n",
       "      <th>JobSatisfaction</th>\n",
       "    </tr>\n",
       "  </thead>\n",
       "  <tbody>\n",
       "    <tr>\n",
       "      <th>0</th>\n",
       "      <td>Student</td>\n",
       "      <td>United States</td>\n",
       "      <td>Not employed, and not looking for work</td>\n",
       "      <td>Secondary school</td>\n",
       "      <td>NaN</td>\n",
       "      <td>NaN</td>\n",
       "      <td>NaN</td>\n",
       "      <td>NaN</td>\n",
       "      <td>NaN</td>\n",
       "      <td>NaN</td>\n",
       "      <td>NaN</td>\n",
       "    </tr>\n",
       "    <tr>\n",
       "      <th>1</th>\n",
       "      <td>Student</td>\n",
       "      <td>United Kingdom</td>\n",
       "      <td>Employed part-time</td>\n",
       "      <td>Some college/university study without earning ...</td>\n",
       "      <td>Computer science or software engineering</td>\n",
       "      <td>More than half, but not all, the time</td>\n",
       "      <td>20 to 99 employees</td>\n",
       "      <td>Privately-held limited company, not in startup...</td>\n",
       "      <td>NaN</td>\n",
       "      <td>NaN</td>\n",
       "      <td>NaN</td>\n",
       "    </tr>\n",
       "    <tr>\n",
       "      <th>2</th>\n",
       "      <td>Professional developer</td>\n",
       "      <td>United Kingdom</td>\n",
       "      <td>Employed full-time</td>\n",
       "      <td>Bachelor's degree</td>\n",
       "      <td>Computer science or software engineering</td>\n",
       "      <td>Less than half the time, but at least one day ...</td>\n",
       "      <td>10,000 or more employees</td>\n",
       "      <td>Publicly-traded corporation</td>\n",
       "      <td>NaN</td>\n",
       "      <td>8.0</td>\n",
       "      <td>9.0</td>\n",
       "    </tr>\n",
       "    <tr>\n",
       "      <th>3</th>\n",
       "      <td>Professional non-developer who sometimes write...</td>\n",
       "      <td>United States</td>\n",
       "      <td>Employed full-time</td>\n",
       "      <td>Doctoral degree</td>\n",
       "      <td>A non-computer-focused engineering discipline</td>\n",
       "      <td>Less than half the time, but at least one day ...</td>\n",
       "      <td>10,000 or more employees</td>\n",
       "      <td>Non-profit/non-governmental organization or pr...</td>\n",
       "      <td>Data scientist</td>\n",
       "      <td>6.0</td>\n",
       "      <td>3.0</td>\n",
       "    </tr>\n",
       "    <tr>\n",
       "      <th>4</th>\n",
       "      <td>Professional developer</td>\n",
       "      <td>Switzerland</td>\n",
       "      <td>Employed full-time</td>\n",
       "      <td>Master's degree</td>\n",
       "      <td>Computer science or software engineering</td>\n",
       "      <td>Never</td>\n",
       "      <td>10 to 19 employees</td>\n",
       "      <td>Privately-held limited company, not in startup...</td>\n",
       "      <td>NaN</td>\n",
       "      <td>6.0</td>\n",
       "      <td>8.0</td>\n",
       "    </tr>\n",
       "  </tbody>\n",
       "</table>\n",
       "</div>"
      ],
      "text/plain": [
       "                                        Professional         Country  \\\n",
       "0                                            Student   United States   \n",
       "1                                            Student  United Kingdom   \n",
       "2                             Professional developer  United Kingdom   \n",
       "3  Professional non-developer who sometimes write...   United States   \n",
       "4                             Professional developer     Switzerland   \n",
       "\n",
       "                         EmploymentStatus  \\\n",
       "0  Not employed, and not looking for work   \n",
       "1                      Employed part-time   \n",
       "2                      Employed full-time   \n",
       "3                      Employed full-time   \n",
       "4                      Employed full-time   \n",
       "\n",
       "                                     FormalEducation  \\\n",
       "0                                   Secondary school   \n",
       "1  Some college/university study without earning ...   \n",
       "2                                  Bachelor's degree   \n",
       "3                                    Doctoral degree   \n",
       "4                                    Master's degree   \n",
       "\n",
       "                                  MajorUndergrad  \\\n",
       "0                                            NaN   \n",
       "1       Computer science or software engineering   \n",
       "2       Computer science or software engineering   \n",
       "3  A non-computer-focused engineering discipline   \n",
       "4       Computer science or software engineering   \n",
       "\n",
       "                                          HomeRemote  \\\n",
       "0                                                NaN   \n",
       "1              More than half, but not all, the time   \n",
       "2  Less than half the time, but at least one day ...   \n",
       "3  Less than half the time, but at least one day ...   \n",
       "4                                              Never   \n",
       "\n",
       "                CompanySize  \\\n",
       "0                       NaN   \n",
       "1        20 to 99 employees   \n",
       "2  10,000 or more employees   \n",
       "3  10,000 or more employees   \n",
       "4        10 to 19 employees   \n",
       "\n",
       "                                         CompanyType NonDeveloperType  \\\n",
       "0                                                NaN              NaN   \n",
       "1  Privately-held limited company, not in startup...              NaN   \n",
       "2                        Publicly-traded corporation              NaN   \n",
       "3  Non-profit/non-governmental organization or pr...   Data scientist   \n",
       "4  Privately-held limited company, not in startup...              NaN   \n",
       "\n",
       "   CareerSatisfaction  JobSatisfaction  \n",
       "0                 NaN              NaN  \n",
       "1                 NaN              NaN  \n",
       "2                 8.0              9.0  \n",
       "3                 6.0              3.0  \n",
       "4                 6.0              8.0  "
      ]
     },
     "execution_count": 9,
     "metadata": {},
     "output_type": "execute_result"
    }
   ],
   "source": [
    "narrow_data.head()"
   ]
  },
  {
   "cell_type": "markdown",
   "metadata": {},
   "source": [
    "### Narrow down the data to those identifying as a Data Scientist\n",
    "#### Note: This category contains other such as: Data scientist; educator - need to include these in the data"
   ]
  },
  {
   "cell_type": "code",
   "execution_count": 12,
   "metadata": {
    "collapsed": false
   },
   "outputs": [],
   "source": [
    "ds_data = narrow_data[narrow_data['NonDeveloperType'].str.contains('Data scientist', na=False)]"
   ]
  },
  {
   "cell_type": "code",
   "execution_count": 13,
   "metadata": {
    "collapsed": false
   },
   "outputs": [
    {
     "data": {
      "text/html": [
       "<div>\n",
       "<table border=\"1\" class=\"dataframe\">\n",
       "  <thead>\n",
       "    <tr style=\"text-align: right;\">\n",
       "      <th></th>\n",
       "      <th>Professional</th>\n",
       "      <th>Country</th>\n",
       "      <th>EmploymentStatus</th>\n",
       "      <th>FormalEducation</th>\n",
       "      <th>MajorUndergrad</th>\n",
       "      <th>HomeRemote</th>\n",
       "      <th>CompanySize</th>\n",
       "      <th>CompanyType</th>\n",
       "      <th>NonDeveloperType</th>\n",
       "      <th>CareerSatisfaction</th>\n",
       "      <th>JobSatisfaction</th>\n",
       "    </tr>\n",
       "  </thead>\n",
       "  <tbody>\n",
       "    <tr>\n",
       "      <th>3</th>\n",
       "      <td>Professional non-developer who sometimes write...</td>\n",
       "      <td>United States</td>\n",
       "      <td>Employed full-time</td>\n",
       "      <td>Doctoral degree</td>\n",
       "      <td>A non-computer-focused engineering discipline</td>\n",
       "      <td>Less than half the time, but at least one day ...</td>\n",
       "      <td>10,000 or more employees</td>\n",
       "      <td>Non-profit/non-governmental organization or pr...</td>\n",
       "      <td>Data scientist</td>\n",
       "      <td>6.0</td>\n",
       "      <td>3.0</td>\n",
       "    </tr>\n",
       "    <tr>\n",
       "      <th>6</th>\n",
       "      <td>Professional non-developer who sometimes write...</td>\n",
       "      <td>United States</td>\n",
       "      <td>Employed full-time</td>\n",
       "      <td>Master's degree</td>\n",
       "      <td>A non-computer-focused engineering discipline</td>\n",
       "      <td>Less than half the time, but at least one day ...</td>\n",
       "      <td>20 to 99 employees</td>\n",
       "      <td>Government agency or public school/university</td>\n",
       "      <td>Data scientist</td>\n",
       "      <td>7.0</td>\n",
       "      <td>6.0</td>\n",
       "    </tr>\n",
       "    <tr>\n",
       "      <th>528</th>\n",
       "      <td>Professional non-developer who sometimes write...</td>\n",
       "      <td>El Salvador</td>\n",
       "      <td>Employed full-time</td>\n",
       "      <td>Some college/university study without earning ...</td>\n",
       "      <td>A business discipline</td>\n",
       "      <td>About half the time</td>\n",
       "      <td>10 to 19 employees</td>\n",
       "      <td>Publicly-traded corporation</td>\n",
       "      <td>Analyst or consultant; Data scientist</td>\n",
       "      <td>10.0</td>\n",
       "      <td>10.0</td>\n",
       "    </tr>\n",
       "    <tr>\n",
       "      <th>618</th>\n",
       "      <td>Professional non-developer who sometimes write...</td>\n",
       "      <td>United States</td>\n",
       "      <td>Employed part-time</td>\n",
       "      <td>Some college/university study without earning ...</td>\n",
       "      <td>Something else</td>\n",
       "      <td>It's complicated</td>\n",
       "      <td>1,000 to 4,999 employees</td>\n",
       "      <td>Privately-held limited company, not in startup...</td>\n",
       "      <td>Analyst or consultant; Data scientist; Designe...</td>\n",
       "      <td>9.0</td>\n",
       "      <td>7.0</td>\n",
       "    </tr>\n",
       "    <tr>\n",
       "      <th>658</th>\n",
       "      <td>Professional non-developer who sometimes write...</td>\n",
       "      <td>United States</td>\n",
       "      <td>Employed full-time</td>\n",
       "      <td>Master's degree</td>\n",
       "      <td>A business discipline</td>\n",
       "      <td>A few days each month</td>\n",
       "      <td>1,000 to 4,999 employees</td>\n",
       "      <td>Privately-held limited company, not in startup...</td>\n",
       "      <td>Analyst or consultant; Data scientist</td>\n",
       "      <td>8.0</td>\n",
       "      <td>9.0</td>\n",
       "    </tr>\n",
       "  </tbody>\n",
       "</table>\n",
       "</div>"
      ],
      "text/plain": [
       "                                          Professional        Country  \\\n",
       "3    Professional non-developer who sometimes write...  United States   \n",
       "6    Professional non-developer who sometimes write...  United States   \n",
       "528  Professional non-developer who sometimes write...    El Salvador   \n",
       "618  Professional non-developer who sometimes write...  United States   \n",
       "658  Professional non-developer who sometimes write...  United States   \n",
       "\n",
       "       EmploymentStatus                                    FormalEducation  \\\n",
       "3    Employed full-time                                    Doctoral degree   \n",
       "6    Employed full-time                                    Master's degree   \n",
       "528  Employed full-time  Some college/university study without earning ...   \n",
       "618  Employed part-time  Some college/university study without earning ...   \n",
       "658  Employed full-time                                    Master's degree   \n",
       "\n",
       "                                    MajorUndergrad  \\\n",
       "3    A non-computer-focused engineering discipline   \n",
       "6    A non-computer-focused engineering discipline   \n",
       "528                          A business discipline   \n",
       "618                                 Something else   \n",
       "658                          A business discipline   \n",
       "\n",
       "                                            HomeRemote  \\\n",
       "3    Less than half the time, but at least one day ...   \n",
       "6    Less than half the time, but at least one day ...   \n",
       "528                                About half the time   \n",
       "618                                   It's complicated   \n",
       "658                              A few days each month   \n",
       "\n",
       "                  CompanySize  \\\n",
       "3    10,000 or more employees   \n",
       "6          20 to 99 employees   \n",
       "528        10 to 19 employees   \n",
       "618  1,000 to 4,999 employees   \n",
       "658  1,000 to 4,999 employees   \n",
       "\n",
       "                                           CompanyType  \\\n",
       "3    Non-profit/non-governmental organization or pr...   \n",
       "6        Government agency or public school/university   \n",
       "528                        Publicly-traded corporation   \n",
       "618  Privately-held limited company, not in startup...   \n",
       "658  Privately-held limited company, not in startup...   \n",
       "\n",
       "                                      NonDeveloperType  CareerSatisfaction  \\\n",
       "3                                       Data scientist                 6.0   \n",
       "6                                       Data scientist                 7.0   \n",
       "528              Analyst or consultant; Data scientist                10.0   \n",
       "618  Analyst or consultant; Data scientist; Designe...                 9.0   \n",
       "658              Analyst or consultant; Data scientist                 8.0   \n",
       "\n",
       "     JobSatisfaction  \n",
       "3                3.0  \n",
       "6                6.0  \n",
       "528             10.0  \n",
       "618              7.0  \n",
       "658              9.0  "
      ]
     },
     "execution_count": 13,
     "metadata": {},
     "output_type": "execute_result"
    }
   ],
   "source": [
    "ds_data.head()"
   ]
  },
  {
   "cell_type": "code",
   "execution_count": 14,
   "metadata": {
    "collapsed": false
   },
   "outputs": [
    {
     "data": {
      "text/plain": [
       "(1100, 11)"
      ]
     },
     "execution_count": 14,
     "metadata": {},
     "output_type": "execute_result"
    }
   ],
   "source": [
    "ds_data.shape"
   ]
  },
  {
   "cell_type": "markdown",
   "metadata": {},
   "source": [
    "#### The data are now much smaller - 1100 people identified as \"Data Scientist\""
   ]
  },
  {
   "cell_type": "markdown",
   "metadata": {},
   "source": [
    "### First, we will look at the distribution of the career/job satisfaction data using a histogram"
   ]
  },
  {
   "cell_type": "code",
   "execution_count": 65,
   "metadata": {
    "collapsed": false
   },
   "outputs": [
    {
     "data": {
      "text/plain": [
       "<matplotlib.text.Text at 0x123276ef0>"
      ]
     },
     "execution_count": 65,
     "metadata": {},
     "output_type": "execute_result"
    },
    {
     "data": {
      "image/png": "[encoded data removed]",
      "text/plain": [
       "<matplotlib.figure.Figure at 0x1230de128>"
      ]
     },
     "metadata": {},
     "output_type": "display_data"
    }
   ],
   "source": [
    "sns.set_color_codes('pastel')\n",
    "f, (ax1, ax2) = plt.subplots(2, sharex=False, figsize=(8,8))\n",
    "sns.distplot(ds_data['CareerSatisfaction'].dropna(axis=0), bins=10, kde=False, ax=ax1)\n",
    "ax1.set_ylabel('No. of Respondents')\n",
    "ax1.set_title('Career and Job Satisfaction of Data Scientists', fontsize=14)\n",
    "sns.distplot(ds_data['JobSatisfaction'].dropna(axis=0), bins=10, kde=False, ax=ax2)\n",
    "ax2.set_ylabel('No. of Respondents')\n",
    "\n",
    "\n"
   ]
  },
  {
   "cell_type": "markdown",
   "metadata": {},
   "source": [
    "#### The data are right distributed - indicating that data scientists' career and job satisfaction levels skew toward higher levels of satisfaction"
   ]
  },
  {
   "cell_type": "markdown",
   "metadata": {},
   "source": [
    "### Now let's take a look at where data scientists are located\n",
    "#### The data will be limited to those countries with 10 or more data scientists in the survey"
   ]
  },
  {
   "cell_type": "code",
   "execution_count": 39,
   "metadata": {
    "collapsed": false
   },
   "outputs": [],
   "source": [
    "countries = ds_data.groupby('Country')['Professional'].count().reset_index()\n",
    "countries.columns = ['Country', 'Number']\n"
   ]
  },
  {
   "cell_type": "code",
   "execution_count": 40,
   "metadata": {
    "collapsed": false
   },
   "outputs": [
    {
     "data": {
      "text/html": [
       "<div>\n",
       "<table border=\"1\" class=\"dataframe\">\n",
       "  <thead>\n",
       "    <tr style=\"text-align: right;\">\n",
       "      <th></th>\n",
       "      <th>Country</th>\n",
       "      <th>Number</th>\n",
       "    </tr>\n",
       "  </thead>\n",
       "  <tbody>\n",
       "    <tr>\n",
       "      <th>0</th>\n",
       "      <td>Afghanistan</td>\n",
       "      <td>1</td>\n",
       "    </tr>\n",
       "    <tr>\n",
       "      <th>1</th>\n",
       "      <td>Aland Islands</td>\n",
       "      <td>2</td>\n",
       "    </tr>\n",
       "    <tr>\n",
       "      <th>2</th>\n",
       "      <td>Algeria</td>\n",
       "      <td>1</td>\n",
       "    </tr>\n",
       "    <tr>\n",
       "      <th>3</th>\n",
       "      <td>Angola</td>\n",
       "      <td>1</td>\n",
       "    </tr>\n",
       "    <tr>\n",
       "      <th>4</th>\n",
       "      <td>Antarctica</td>\n",
       "      <td>1</td>\n",
       "    </tr>\n",
       "  </tbody>\n",
       "</table>\n",
       "</div>"
      ],
      "text/plain": [
       "         Country  Number\n",
       "0    Afghanistan       1\n",
       "1  Aland Islands       2\n",
       "2        Algeria       1\n",
       "3         Angola       1\n",
       "4     Antarctica       1"
      ]
     },
     "execution_count": 40,
     "metadata": {},
     "output_type": "execute_result"
    }
   ],
   "source": [
    "countries.head()"
   ]
  },
  {
   "cell_type": "code",
   "execution_count": 44,
   "metadata": {
    "collapsed": false
   },
   "outputs": [
    {
     "data": {
      "text/html": [
       "<div>\n",
       "<table border=\"1\" class=\"dataframe\">\n",
       "  <thead>\n",
       "    <tr style=\"text-align: right;\">\n",
       "      <th></th>\n",
       "      <th>Country</th>\n",
       "      <th>Number</th>\n",
       "    </tr>\n",
       "  </thead>\n",
       "  <tbody>\n",
       "    <tr>\n",
       "      <th>94</th>\n",
       "      <td>United States</td>\n",
       "      <td>271</td>\n",
       "    </tr>\n",
       "    <tr>\n",
       "      <th>31</th>\n",
       "      <td>Germany</td>\n",
       "      <td>121</td>\n",
       "    </tr>\n",
       "    <tr>\n",
       "      <th>93</th>\n",
       "      <td>United Kingdom</td>\n",
       "      <td>92</td>\n",
       "    </tr>\n",
       "    <tr>\n",
       "      <th>39</th>\n",
       "      <td>India</td>\n",
       "      <td>52</td>\n",
       "    </tr>\n",
       "    <tr>\n",
       "      <th>18</th>\n",
       "      <td>Canada</td>\n",
       "      <td>38</td>\n",
       "    </tr>\n",
       "    <tr>\n",
       "      <th>29</th>\n",
       "      <td>France</td>\n",
       "      <td>27</td>\n",
       "    </tr>\n",
       "    <tr>\n",
       "      <th>71</th>\n",
       "      <td>Poland</td>\n",
       "      <td>27</td>\n",
       "    </tr>\n",
       "    <tr>\n",
       "      <th>45</th>\n",
       "      <td>Italy</td>\n",
       "      <td>23</td>\n",
       "    </tr>\n",
       "    <tr>\n",
       "      <th>84</th>\n",
       "      <td>Switzerland</td>\n",
       "      <td>23</td>\n",
       "    </tr>\n",
       "    <tr>\n",
       "      <th>6</th>\n",
       "      <td>Australia</td>\n",
       "      <td>21</td>\n",
       "    </tr>\n",
       "    <tr>\n",
       "      <th>63</th>\n",
       "      <td>Netherlands</td>\n",
       "      <td>21</td>\n",
       "    </tr>\n",
       "  </tbody>\n",
       "</table>\n",
       "</div>"
      ],
      "text/plain": [
       "           Country  Number\n",
       "94   United States     271\n",
       "31         Germany     121\n",
       "93  United Kingdom      92\n",
       "39           India      52\n",
       "18          Canada      38\n",
       "29          France      27\n",
       "71          Poland      27\n",
       "45           Italy      23\n",
       "84     Switzerland      23\n",
       "6        Australia      21\n",
       "63     Netherlands      21"
      ]
     },
     "execution_count": 44,
     "metadata": {},
     "output_type": "execute_result"
    }
   ],
   "source": [
    "top_countries = countries[countries.Number >= 20]\n",
    "top_countries = top_countries.sort_values(['Number'], axis=0, ascending=False)\n",
    "top_countries"
   ]
  },
  {
   "cell_type": "code",
   "execution_count": 50,
   "metadata": {
    "collapsed": false
   },
   "outputs": [
    {
     "data": {
      "text/plain": [
       "<matplotlib.text.Text at 0x1151c1d68>"
      ]
     },
     "execution_count": 50,
     "metadata": {},
     "output_type": "execute_result"
    },
    {
     "data": {
      "image/png": "[encoded data removed]",
      "text/plain": [
       "<matplotlib.figure.Figure at 0x114f38f60>"
      ]
     },
     "metadata": {},
     "output_type": "display_data"
    }
   ],
   "source": [
    "x = ['USA', 'GER', 'UK', 'IND', 'CAN', 'FRA', 'POL', 'ITA', 'SWI', 'AUS', 'NED']\n",
    "f, ax = plt.subplots(figsize=(10, 5))\n",
    "sns.set_color_codes('pastel')\n",
    "sns.barplot(x, y=top_countries['Number'])\n",
    "ax.set_ylabel('No. of Data Scientists')\n",
    "ax.set_title('Number of Data Scientists by Country', fontsize=14)\n"
   ]
  },
  {
   "cell_type": "markdown",
   "metadata": {},
   "source": [
    "#### The country with the most data scientists appears to be the US, followed by the UK and Germany. \n",
    "\n",
    "### Now we will take a look at where data scientists are working (i.e. company types)"
   ]
  },
  {
   "cell_type": "code",
   "execution_count": 54,
   "metadata": {
    "collapsed": false
   },
   "outputs": [
    {
     "data": {
      "text/html": [
       "<div>\n",
       "<table border=\"1\" class=\"dataframe\">\n",
       "  <thead>\n",
       "    <tr style=\"text-align: right;\">\n",
       "      <th></th>\n",
       "      <th>Number</th>\n",
       "    </tr>\n",
       "    <tr>\n",
       "      <th>CompanyType</th>\n",
       "      <th></th>\n",
       "    </tr>\n",
       "  </thead>\n",
       "  <tbody>\n",
       "    <tr>\n",
       "      <th>Privately-held limited company, not in startup mode</th>\n",
       "      <td>262</td>\n",
       "    </tr>\n",
       "    <tr>\n",
       "      <th>Government agency or public school/university</th>\n",
       "      <td>231</td>\n",
       "    </tr>\n",
       "    <tr>\n",
       "      <th>Publicly-traded corporation</th>\n",
       "      <td>128</td>\n",
       "    </tr>\n",
       "    <tr>\n",
       "      <th>Non-profit/non-governmental organization or private school/university</th>\n",
       "      <td>78</td>\n",
       "    </tr>\n",
       "    <tr>\n",
       "      <th>I don't know</th>\n",
       "      <td>54</td>\n",
       "    </tr>\n",
       "    <tr>\n",
       "      <th>Sole proprietorship or partnership, not in startup mode</th>\n",
       "      <td>46</td>\n",
       "    </tr>\n",
       "    <tr>\n",
       "      <th>I prefer not to answer</th>\n",
       "      <td>37</td>\n",
       "    </tr>\n",
       "    <tr>\n",
       "      <th>Venture-funded startup</th>\n",
       "      <td>34</td>\n",
       "    </tr>\n",
       "    <tr>\n",
       "      <th>State-owned company</th>\n",
       "      <td>26</td>\n",
       "    </tr>\n",
       "    <tr>\n",
       "      <th>Pre-series A startup</th>\n",
       "      <td>14</td>\n",
       "    </tr>\n",
       "    <tr>\n",
       "      <th>Something else</th>\n",
       "      <td>7</td>\n",
       "    </tr>\n",
       "  </tbody>\n",
       "</table>\n",
       "</div>"
      ],
      "text/plain": [
       "                                                    Number\n",
       "CompanyType                                               \n",
       "Privately-held limited company, not in startup ...     262\n",
       "Government agency or public school/university          231\n",
       "Publicly-traded corporation                            128\n",
       "Non-profit/non-governmental organization or pri...      78\n",
       "I don't know                                            54\n",
       "Sole proprietorship or partnership, not in star...      46\n",
       "I prefer not to answer                                  37\n",
       "Venture-funded startup                                  34\n",
       "State-owned company                                     26\n",
       "Pre-series A startup                                    14\n",
       "Something else                                           7"
      ]
     },
     "execution_count": 54,
     "metadata": {},
     "output_type": "execute_result"
    }
   ],
   "source": [
    "companies = ds_data.groupby('CompanyType')['Professional'].count().reset_index()\n",
    "companies.columns = ['CompanyType', 'Number']\n",
    "companies.set_index('CompanyType', inplace=True)\n",
    "companies = companies.sort_values('Number', ascending=False)\n",
    "companies"
   ]
  },
  {
   "cell_type": "code",
   "execution_count": 62,
   "metadata": {
    "collapsed": false
   },
   "outputs": [
    {
     "data": {
      "text/plain": [
       "<matplotlib.figure.Figure at 0x120e60438>"
      ]
     },
     "metadata": {},
     "output_type": "display_data"
    },
    {
     "data": {
      "image/png": "[encoded data removed]",
      "text/plain": [
       "<matplotlib.figure.Figure at 0x120e483c8>"
      ]
     },
     "metadata": {},
     "output_type": "display_data"
    }
   ],
   "source": [
    "x = ['Private Company', 'Government', 'Public Company', 'Non-profit/NGO', 'Unknown', 'Sole Proprietorship', 'No answer',\n",
    "            'VF Startup', 'State-owned company', 'Pre-series A startup', 'Something Else']\n",
    "plt.figure(figsize=(8, 5))\n",
    "f, ax = plt.subplots(figsize=(10, 5))\n",
    "ax.set_xticklabels(x, rotation=90)\n",
    "sns.set_color_codes('pastel')\n",
    "sns.barplot(x, y=companies['Number'])\n",
    "ax.set_ylabel('No. of Data Scientists')\n",
    "ax.set_title('Number of Data Scientists by Company Type', fontsize=14)\n",
    "plt.show()"
   ]
  },
  {
   "cell_type": "markdown",
   "metadata": {},
   "source": [
    "#### Data scientists appear to be relatively well distributed across different company types, with the largest categories being private companies and government. There are also relatively large portions of data scientists working in publicly traded corporations and non-profits and NGO's. "
   ]
  },
  {
   "cell_type": "markdown",
   "metadata": {},
   "source": [
    "## Initial Research Findings\n",
    "#### 1. Based on the right skewed histograms for job and career satisfaction, it appears that data scientists are generally satisfied with their careers. \n",
    "#### 2. Data scientists are concentrated in the UK, the US and Germany. It would be interesting to see whether this is true across all Stack Overflow respondents or if this is unique to data scientists. \n",
    "#### 3. Data scientists are finding work in a wide range of industries. Although privately held companies and government are the largest categories in the pie chart, there are many other sectors that appear to be well represented - notably non-profits/NGO's and public corporations."
   ]
  },
  {
   "cell_type": "markdown",
   "metadata": {},
   "source": [
    "### Other questions to explore:\n",
    "#### 1. How do these data compare to the general group of survey respondents? Are data scientist more or less satisfied with their jobs than other developers in the stack overflow survey? \n",
    "#### 2. How does the distribution of countries compare to the generall population of stack over flow users? How do career and job satisfaction vary by region? How do the top countries for data scientists compare to the top countries by population?\n",
    "#### 3. How many data scientist work remotely compared to in the office? Are those that work remotely more or less satisfied?\n",
    "#### 4. In which industries are data scientists most/least satisfied? Are these distribution different for data scientists compared to the industry as a whole? Government workers are generally unsatisfied - is this true for data scientists in government? http://fortune.com/2015/12/08/government-workers-satisfaction/\n",
    "#### 5. Does education level relate to job satisfaction?\n",
    "#### 6. Does salary affect employee satisfaction?"
   ]
  },
  {
   "cell_type": "code",
   "execution_count": null,
   "metadata": {
    "collapsed": true
   },
   "outputs": [],
   "source": []
  }
 ],
 "metadata": {
  "kernelspec": {
   "display_name": "Python 3",
   "language": "python",
   "name": "python3"
  },
  "language_info": {
   "codemirror_mode": {
    "name": "ipython",
    "version": 3
   },
   "file_extension": ".py",
   "mimetype": "text/x-python",
   "name": "python",
   "nbconvert_exporter": "python",
   "pygments_lexer": "ipython3",
   "version": "3.6.0"
  }
 },
 "nbformat": 4,
 "nbformat_minor": 2
}
